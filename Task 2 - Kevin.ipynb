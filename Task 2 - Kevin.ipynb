{
  "cells": [
    {
      "cell_type": "code",
      "execution_count": 2,
      "metadata": {
        "colab": {
          "base_uri": "https://localhost:8080/"
        },
        "id": "9LE8Op8Rddtg",
        "outputId": "436ca766-5b82-485c-d7f0-ed560363ea10"
      },
      "outputs": [
        {
          "name": "stdout",
          "output_type": "stream",
          "text": [
            "{'nama_club': ['FC Barcelona', 'Arsenal', 'MU', 'Chelsea'], 'pelatih_club': ['Thomas', 'Jurgen', 'Guardiola', 'Diego'], 'Negara': ['Spanyol', 'Inggris', 'Belanda', 'Jerman'], 'pemain': ['Pepe', 'Helen', 'Giovanni', 'Samuel']}\n",
            "{'nama_club': ['FC Barcelona', 'Arsenal', 'MU', 'Chelsea'], 'pelatih_club': ['Thomas', 'Jurgen', 'Guardiola', 'Diego'], 'Negara': ['Spanyol', 'Inggris', 'Belanda', 'Jerman'], 'pemain': ['Pepe', 'Helen', 'Giovanni', 'Samuel'], 'sponsor': ['baju', 'jersey', 'celana', 'sepatu']}\n",
            "[ 5 10 15 20 25]\n",
            "[  8  13  18  99 188]\n",
            "[10 23 15 65 25]\n",
            "[  6  25  16  45 250]\n",
            "[  50  230  225 1300  625]\n",
            "[ 14  38  34 144 438]\n",
            "[25]\n",
            "8\n",
            "18\n",
            "188\n",
            "[ 50  55  87 100]\n",
            "[60 58 58 96]\n",
            "[59 85 35 65]\n",
            "[90 80 60 40]\n",
            "[45 50 82 95]\n",
            "[55 53 53 91]\n",
            "[54 80 30 60]\n",
            "[85 75 55 35]\n"
          ]
        }
      ],
      "source": [
        "#membuat variable dengan nama ClubEropa dengan tipe data dictionary 4 key (nama_club, pelatih_club, Negara, pemain), yang masing-masing nya memiliki 4 value\n",
        "\n",
        "ClubEropa = {\"nama_club\" : [\"FC Barcelona\", \"Arsenal\", \"MU\", \"Chelsea\"],\n",
        "            \"pelatih_club\" : [\"Thomas\", \"Jurgen\", \"Guardiola\", \"Diego\"],\n",
        "            \"Negara\" : [\"Spanyol\", \"Inggris\", \"Belanda\", \"Jerman\"],\n",
        "            \"pemain\" : [\"Pepe\", \"Helen\", \"Giovanni\", \"Samuel\"]}\n",
        "            \n",
        "print(ClubEropa)\n",
        "\n",
        "#menambah key “sponsor” pada variabel ClubEropa yang tentunya memiliki 4 value.\n",
        "sponsor = {\"sponsor\" : [\"baju\", \"jersey\", \"celana\", \"sepatu\"]}\n",
        "ClubEropa.update(sponsor)\n",
        "print(ClubEropa)\n",
        "\n",
        "#Buatlah 4 variable array yang memiliki 5 elemen angka pada masing-masing nya (bebas nama array dan elemennya), kemudian lakukan:\n",
        "import numpy as np\n",
        "\n",
        "a = np.array([5, 10, 15, 20, 25])\n",
        "b = np.array([8, 13, 18, 99, 188])\n",
        "c = np.array([10, 23, 15, 65, 25])\n",
        "d = np.array([6, 25, 16, 45, 250])\n",
        "\n",
        "print(a)\n",
        "print(b)\n",
        "print(c)\n",
        "print(d)\n",
        "#a. Perkalian pada variable array 1 dengan variable array 3\n",
        "print(a*c)\n",
        "#b. Penjumlahan pada variable array 2 dengan variable array 4\n",
        "print(b+d)\n",
        "#b. Jika ada irisan, dapatkan irisan pada variable 1 dengan 4\n",
        "print(np.intersect1d(a,d))\n",
        "\n",
        "#c. Ambil nilai pada urutan ke 1, 3, dan 5 pada variabel kedua\n",
        "print(b[0])\n",
        "print(b[2])\n",
        "print(b[4])\n",
        "#4. Buatlah variabel nilai_kelas dari 4 kelas berbeda, dimana masing-masing kelas berisi nilai 4 siswa,\n",
        "import numpy as np\n",
        "nilai_kelas1 = np.array([50,55,87,100])\n",
        "nilai_kelas2 = np.array([60,58,58,96])\n",
        "nilai_kelas3 = np.array([59,85,35,65])\n",
        "nilai_kelas4 = np.array([90,80,60,40])\n",
        "print(nilai_kelas1)\n",
        "print(nilai_kelas2)\n",
        "print(nilai_kelas3)\n",
        "print(nilai_kelas4)\n",
        "# kemudian kurangi semua nilai siswa dengan 5 sebagai nilai hukuman karena menyontek\n",
        "print(nilai_kelas1-5)\n",
        "print(nilai_kelas2-5)\n",
        "print(nilai_kelas3-5)\n",
        "print(nilai_kelas4-5)\n",
        "#5. jelaskan sejarah python, keunggulan dan apa kegunaannya?\n",
        "Python diciptakan oleh Guido van Rossum pertama kali di  Centrum Wiskunde & Informatica (CWI) di Belanda pada awal tahun 1990-an. Bahasa python terinspirasi dari bahasa pemrograman ABC. Sampai sekarang, Guido masih menjadi penulis utama untuk python, meskipun bersifat open source sehingga ribuan orang juga berkontribusi dalam mengembangkannya.Di tahun 1995, Guido melanjutkan pembuatan python di Corporation for National Research Initiative (CNRI) di Virginia Amerika, di mana dia merilis beberapa versi dari python. Pada Mei 2000, Guido dan tim Python pindah ke BeOpen.com dan membentuk tim BeOpen PythonLabs. Di bulan Oktober pada tahun yang sama, tim python pindah ke Digital Creation (sekarang menjadi Perusahaan Zope). Pada tahun 2001, dibentuklah Organisasi Python yaitu Python Software Foundation (PSF). PSF merupakan organisasi nirlaba yang dibuat khusus untuk semua hal yang berkaitan dengan hak intelektual Python.\n",
        "(sumber: Pythonindo)\n",
        "Keunggulan menggunakan python yaitu: \n",
        "1. python memiliki struktur syntax yang sama; \n",
        "2. Python juga memiliki bahasa pemograman yang portable yang dimana pengguna tidak perlu menuliskan kode berulang kali; \n",
        "3. Python memiliki pustaka atau ibrary yang luas; \n",
        "4. Python juga disebut sebagai interpreter language yang dimana kode-kode yang Anda tuliskan akan langsung diterjemahkan lewat baris per baris; \n",
        "5. Python juga bersifat open source. Lisensi open source ini telah disetujui oleh OSI (Open Source Initiative). Lisensi ini juga diatur oleh Python Software Foundation; \n",
        "(sumber: Alterra Academy)\n",
        "Kegunaan Python:\n",
        "1. Untuk mengolah data yang jumlahnya sangat besar (jutaan atau lebih);\n",
        "2. Pengembangan machine learning, \n",
        "3. Penggunaan dalam fintech (financial technology) dimana dengan menggunakan Python, aplikasi dan berbagai fitur yang ada di fintech akan lebih aman.\n",
        "(sumber: Glints)"
      ]
    }
  ],
  "metadata": {
    "colab": {
      "collapsed_sections": [],
      "name": "Task2_Kevin Kiding.ipynb",
      "provenance": []
    },
    "kernelspec": {
      "display_name": "Python 3",
      "name": "python3"
    },
    "language_info": {
      "name": "python"
    }
  },
  "nbformat": 4,
  "nbformat_minor": 0
}
