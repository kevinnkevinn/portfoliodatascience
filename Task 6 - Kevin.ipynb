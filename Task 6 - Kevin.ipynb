{
  "nbformat": 4,
  "nbformat_minor": 0,
  "metadata": {
    "colab": {
      "provenance": []
    },
    "kernelspec": {
      "name": "python3",
      "display_name": "Python 3"
    },
    "language_info": {
      "name": "python"
    }
  },
  "cells": [
    {
      "cell_type": "code",
      "execution_count": null,
      "metadata": {
        "id": "ECF4ksKNW--1"
      },
      "outputs": [],
      "source": [
        "import pandas as pd\n",
        "import numpy as np\n",
        "import matplotlib.pyplot as plt\n",
        "import seaborn as sns"
      ]
    },
    {
      "cell_type": "markdown",
      "source": [
        "# 1. Tunjukkan statistika deskriptif untuk variabel harga rumah (Column Name : SalePrice pada data sample submission) lalu interpretasikan!"
      ],
      "metadata": {
        "id": "bLQWiUfrXeJ1"
      }
    },
    {
      "cell_type": "code",
      "source": [
        "data = pd.read_csv(\"sample_submission.csv\", sep=',')\n",
        "data.dropna(axis=1)\n",
        "data.head(10)"
      ],
      "metadata": {
        "colab": {
          "base_uri": "https://localhost:8080/",
          "height": 363
        },
        "id": "mzaz-RYzXUzw",
        "outputId": "8a1098fe-259c-4578-d8f6-2262e957f0ba"
      },
      "execution_count": null,
      "outputs": [
        {
          "output_type": "execute_result",
          "data": {
            "text/plain": [
              "     Id      SalePrice\n",
              "0  1461  169277.052498\n",
              "1  1462  187758.393989\n",
              "2  1463  183583.683570\n",
              "3  1464  179317.477511\n",
              "4  1465  150730.079977\n",
              "5  1466  177150.989247\n",
              "6  1467  172070.659229\n",
              "7  1468  175110.956520\n",
              "8  1469  162011.698832\n",
              "9  1470  160726.247831"
            ],
            "text/html": [
              "\n",
              "  <div id=\"df-e99f1834-d6a9-4f6c-b2fb-77f7022f24e0\">\n",
              "    <div class=\"colab-df-container\">\n",
              "      <div>\n",
              "<style scoped>\n",
              "    .dataframe tbody tr th:only-of-type {\n",
              "        vertical-align: middle;\n",
              "    }\n",
              "\n",
              "    .dataframe tbody tr th {\n",
              "        vertical-align: top;\n",
              "    }\n",
              "\n",
              "    .dataframe thead th {\n",
              "        text-align: right;\n",
              "    }\n",
              "</style>\n",
              "<table border=\"1\" class=\"dataframe\">\n",
              "  <thead>\n",
              "    <tr style=\"text-align: right;\">\n",
              "      <th></th>\n",
              "      <th>Id</th>\n",
              "      <th>SalePrice</th>\n",
              "    </tr>\n",
              "  </thead>\n",
              "  <tbody>\n",
              "    <tr>\n",
              "      <th>0</th>\n",
              "      <td>1461</td>\n",
              "      <td>169277.052498</td>\n",
              "    </tr>\n",
              "    <tr>\n",
              "      <th>1</th>\n",
              "      <td>1462</td>\n",
              "      <td>187758.393989</td>\n",
              "    </tr>\n",
              "    <tr>\n",
              "      <th>2</th>\n",
              "      <td>1463</td>\n",
              "      <td>183583.683570</td>\n",
              "    </tr>\n",
              "    <tr>\n",
              "      <th>3</th>\n",
              "      <td>1464</td>\n",
              "      <td>179317.477511</td>\n",
              "    </tr>\n",
              "    <tr>\n",
              "      <th>4</th>\n",
              "      <td>1465</td>\n",
              "      <td>150730.079977</td>\n",
              "    </tr>\n",
              "    <tr>\n",
              "      <th>5</th>\n",
              "      <td>1466</td>\n",
              "      <td>177150.989247</td>\n",
              "    </tr>\n",
              "    <tr>\n",
              "      <th>6</th>\n",
              "      <td>1467</td>\n",
              "      <td>172070.659229</td>\n",
              "    </tr>\n",
              "    <tr>\n",
              "      <th>7</th>\n",
              "      <td>1468</td>\n",
              "      <td>175110.956520</td>\n",
              "    </tr>\n",
              "    <tr>\n",
              "      <th>8</th>\n",
              "      <td>1469</td>\n",
              "      <td>162011.698832</td>\n",
              "    </tr>\n",
              "    <tr>\n",
              "      <th>9</th>\n",
              "      <td>1470</td>\n",
              "      <td>160726.247831</td>\n",
              "    </tr>\n",
              "  </tbody>\n",
              "</table>\n",
              "</div>\n",
              "      <button class=\"colab-df-convert\" onclick=\"convertToInteractive('df-e99f1834-d6a9-4f6c-b2fb-77f7022f24e0')\"\n",
              "              title=\"Convert this dataframe to an interactive table.\"\n",
              "              style=\"display:none;\">\n",
              "        \n",
              "  <svg xmlns=\"http://www.w3.org/2000/svg\" height=\"24px\"viewBox=\"0 0 24 24\"\n",
              "       width=\"24px\">\n",
              "    <path d=\"M0 0h24v24H0V0z\" fill=\"none\"/>\n",
              "    <path d=\"M18.56 5.44l.94 2.06.94-2.06 2.06-.94-2.06-.94-.94-2.06-.94 2.06-2.06.94zm-11 1L8.5 8.5l.94-2.06 2.06-.94-2.06-.94L8.5 2.5l-.94 2.06-2.06.94zm10 10l.94 2.06.94-2.06 2.06-.94-2.06-.94-.94-2.06-.94 2.06-2.06.94z\"/><path d=\"M17.41 7.96l-1.37-1.37c-.4-.4-.92-.59-1.43-.59-.52 0-1.04.2-1.43.59L10.3 9.45l-7.72 7.72c-.78.78-.78 2.05 0 2.83L4 21.41c.39.39.9.59 1.41.59.51 0 1.02-.2 1.41-.59l7.78-7.78 2.81-2.81c.8-.78.8-2.07 0-2.86zM5.41 20L4 18.59l7.72-7.72 1.47 1.35L5.41 20z\"/>\n",
              "  </svg>\n",
              "      </button>\n",
              "      \n",
              "  <style>\n",
              "    .colab-df-container {\n",
              "      display:flex;\n",
              "      flex-wrap:wrap;\n",
              "      gap: 12px;\n",
              "    }\n",
              "\n",
              "    .colab-df-convert {\n",
              "      background-color: #E8F0FE;\n",
              "      border: none;\n",
              "      border-radius: 50%;\n",
              "      cursor: pointer;\n",
              "      display: none;\n",
              "      fill: #1967D2;\n",
              "      height: 32px;\n",
              "      padding: 0 0 0 0;\n",
              "      width: 32px;\n",
              "    }\n",
              "\n",
              "    .colab-df-convert:hover {\n",
              "      background-color: #E2EBFA;\n",
              "      box-shadow: 0px 1px 2px rgba(60, 64, 67, 0.3), 0px 1px 3px 1px rgba(60, 64, 67, 0.15);\n",
              "      fill: #174EA6;\n",
              "    }\n",
              "\n",
              "    [theme=dark] .colab-df-convert {\n",
              "      background-color: #3B4455;\n",
              "      fill: #D2E3FC;\n",
              "    }\n",
              "\n",
              "    [theme=dark] .colab-df-convert:hover {\n",
              "      background-color: #434B5C;\n",
              "      box-shadow: 0px 1px 3px 1px rgba(0, 0, 0, 0.15);\n",
              "      filter: drop-shadow(0px 1px 2px rgba(0, 0, 0, 0.3));\n",
              "      fill: #FFFFFF;\n",
              "    }\n",
              "  </style>\n",
              "\n",
              "      <script>\n",
              "        const buttonEl =\n",
              "          document.querySelector('#df-e99f1834-d6a9-4f6c-b2fb-77f7022f24e0 button.colab-df-convert');\n",
              "        buttonEl.style.display =\n",
              "          google.colab.kernel.accessAllowed ? 'block' : 'none';\n",
              "\n",
              "        async function convertToInteractive(key) {\n",
              "          const element = document.querySelector('#df-e99f1834-d6a9-4f6c-b2fb-77f7022f24e0');\n",
              "          const dataTable =\n",
              "            await google.colab.kernel.invokeFunction('convertToInteractive',\n",
              "                                                     [key], {});\n",
              "          if (!dataTable) return;\n",
              "\n",
              "          const docLinkHtml = 'Like what you see? Visit the ' +\n",
              "            '<a target=\"_blank\" href=https://colab.research.google.com/notebooks/data_table.ipynb>data table notebook</a>'\n",
              "            + ' to learn more about interactive tables.';\n",
              "          element.innerHTML = '';\n",
              "          dataTable['output_type'] = 'display_data';\n",
              "          await google.colab.output.renderOutput(dataTable, element);\n",
              "          const docLink = document.createElement('div');\n",
              "          docLink.innerHTML = docLinkHtml;\n",
              "          element.appendChild(docLink);\n",
              "        }\n",
              "      </script>\n",
              "    </div>\n",
              "  </div>\n",
              "  "
            ]
          },
          "metadata": {},
          "execution_count": 43
        }
      ]
    },
    {
      "cell_type": "code",
      "source": [
        "x = data[\"SalePrice\"].apply(int)\n",
        "x.describe()"
      ],
      "metadata": {
        "colab": {
          "base_uri": "https://localhost:8080/"
        },
        "id": "-dtzgbrzXtT9",
        "outputId": "b0d7bd1a-9d09-4646-9ce1-6c4a62d05fe1"
      },
      "execution_count": null,
      "outputs": [
        {
          "output_type": "execute_result",
          "data": {
            "text/plain": [
              "count      1459.000000\n",
              "mean     179183.413297\n",
              "std       16518.313057\n",
              "min      135751.000000\n",
              "25%      168702.500000\n",
              "50%      179208.000000\n",
              "75%      186789.000000\n",
              "max      281643.000000\n",
              "Name: SalePrice, dtype: float64"
            ]
          },
          "metadata": {},
          "execution_count": 44
        }
      ]
    },
    {
      "cell_type": "code",
      "source": [
        "print(\"IQR:\", x.quantile(0.75) - x.quantile(0.25))"
      ],
      "metadata": {
        "colab": {
          "base_uri": "https://localhost:8080/"
        },
        "id": "p9DtyVSmX0UB",
        "outputId": "41377607-845e-4a68-fcd0-f7ffaadc4e98"
      },
      "execution_count": null,
      "outputs": [
        {
          "output_type": "stream",
          "name": "stdout",
          "text": [
            "IQR: 18086.5\n"
          ]
        }
      ]
    },
    {
      "cell_type": "markdown",
      "source": [
        "Dari data tersebut dapat terlihat bahwa ada 1459 data mengenai harga rumah. Untuk rata-rata harga jual rumah berada di 179183.41. Harga termurah berada di 135751, Harga termahal berada di 281643, sedangkan untuk harga tengah (*median*) itu sebesar 179208. Untuk Interquantile berada di 18086.5. "
      ],
      "metadata": {
        "id": "2i7_Lie8ZIxR"
      }
    },
    {
      "cell_type": "markdown",
      "source": [
        "# 2. Bagaimana distribusi harga rumah tersebut. Gunakan histogram plot dan plot tidak terbatas hanya histogram saja. Jelaskan sebaiknya untuk analisa apakah lebih baik menggunakan mean atau menggunakan median? Beserta alasannya (Column Name : SalePrice)"
      ],
      "metadata": {
        "id": "CQh-O7XLaSQE"
      }
    },
    {
      "cell_type": "code",
      "source": [
        "# membuat histogram plot\n",
        "sns.set()\n",
        "plt.figure(figsize = (10,8))\n",
        "data[\"SalePrice\"].plot.hist()\n",
        "plt.show()"
      ],
      "metadata": {
        "colab": {
          "base_uri": "https://localhost:8080/",
          "height": 485
        },
        "id": "DESLbDY1UKQN",
        "outputId": "a7820e26-5f33-490e-ddf0-b9bed2a5c654"
      },
      "execution_count": null,
      "outputs": [
        {
          "output_type": "display_data",
          "data": {
            "text/plain": [
              "<Figure size 720x576 with 1 Axes>"
            ],
            "image/png": "[encoded data removed]"
          },
          "metadata": {}
        }
      ]
    },
    {
      "cell_type": "markdown",
      "source": [
        "Dari isi kolom variabel dapat dilihat bahwa pesebaran (distirbusi) cukup beragam dimana bisa dilihat bahwa ada 3 bagain yaitu ada beberapa nilai (tidak terlalu banyak) yang dibawah 135751 (harga minimum); lalu ada beberapa harga Sale Price yang ada direntang 168702 - 186789; dan ada harga yang outlier karena diatas harga maximum (diatas 281643). \n",
        "\n",
        "Menurut saya untuk analisa distribusi harga rumah bisa dilakukan oleh kedua nya (baik *mean* maupun *median*, karena kedua nilai tersebut berada di dalam rentang Interquantile (berada di dalam rentang harga 168702 - 186789). \n",
        "Namun lebih baik menggunakan *mean* sebagai acuannya, karena ini mengenai harga jual rumah. Karena menurut saya, bentuk pemikiran orang langsung tertuju apakah harga jual rumah ini diatas rata-rata harga jual rumah lainnya atau tidak."
      ],
      "metadata": {
        "id": "wKxScqNmXx3H"
      }
    },
    {
      "cell_type": "code",
      "source": [
        "plt.figure (figsize = (10,8))\n",
        "sns.boxplot(x = \"SalePrice\", data = data)\n",
        "plt.show()"
      ],
      "metadata": {
        "colab": {
          "base_uri": "https://localhost:8080/",
          "height": 502
        },
        "id": "DmHBSbn-ZH-E",
        "outputId": "845a984e-8061-49a4-8b17-e5c893088a44"
      },
      "execution_count": null,
      "outputs": [
        {
          "output_type": "display_data",
          "data": {
            "text/plain": [
              "<Figure size 720x576 with 1 Axes>"
            ],
            "image/png": "[encoded data removed]"
          },
          "metadata": {}
        }
      ]
    },
    {
      "cell_type": "markdown",
      "source": [
        "# 3. Lakukan sampling untuk data tersebut dengan margin of error 5%! Lakukan pengujian hipotesis untuk harga rumah (Kolom: SalePrice)."
      ],
      "metadata": {
        "id": "tXJA6YMOb8g3"
      }
    },
    {
      "cell_type": "code",
      "source": [
        "data.shape"
      ],
      "metadata": {
        "colab": {
          "base_uri": "https://localhost:8080/"
        },
        "id": "YjpMSaPNdjVA",
        "outputId": "8649781b-d080-41d2-8c70-9a1f2071fbd2"
      },
      "execution_count": null,
      "outputs": [
        {
          "output_type": "execute_result",
          "data": {
            "text/plain": [
              "(1459, 2)"
            ]
          },
          "metadata": {},
          "execution_count": 48
        }
      ]
    },
    {
      "cell_type": "code",
      "source": [
        "#mencari nilai Slovin\n",
        "k = 1459 / (1+1459 * 0.05 ** 2)\n",
        "k"
      ],
      "metadata": {
        "colab": {
          "base_uri": "https://localhost:8080/"
        },
        "id": "X4wWqYxpyK63",
        "outputId": "dab3ef26-7a53-4b3d-a4a8-d06ff73d36ad"
      },
      "execution_count": null,
      "outputs": [
        {
          "output_type": "execute_result",
          "data": {
            "text/plain": [
              "313.93222162452923"
            ]
          },
          "metadata": {},
          "execution_count": 49
        }
      ]
    },
    {
      "cell_type": "code",
      "source": [
        "data.sample(n = 314).sort_index()"
      ],
      "metadata": {
        "colab": {
          "base_uri": "https://localhost:8080/",
          "height": 423
        },
        "id": "YE4eJCctynN2",
        "outputId": "9e938978-41fe-4ba0-bd0d-f7925679c53a"
      },
      "execution_count": null,
      "outputs": [
        {
          "output_type": "execute_result",
          "data": {
            "text/plain": [
              "        Id      SalePrice\n",
              "0     1461  169277.052498\n",
              "2     1463  183583.683570\n",
              "10    1471  157933.279456\n",
              "11    1472  145291.245020\n",
              "14    1475  150891.638244\n",
              "...    ...            ...\n",
              "1451  2912  188506.431412\n",
              "1452  2913  172917.456816\n",
              "1453  2914  166274.325226\n",
              "1454  2915  167081.220949\n",
              "1457  2918  184924.279659\n",
              "\n",
              "[314 rows x 2 columns]"
            ],
            "text/html": [
              "\n",
              "  <div id=\"df-382846ca-ef9b-47a9-8cc3-9c39cf662b16\">\n",
              "    <div class=\"colab-df-container\">\n",
              "      <div>\n",
              "<style scoped>\n",
              "    .dataframe tbody tr th:only-of-type {\n",
              "        vertical-align: middle;\n",
              "    }\n",
              "\n",
              "    .dataframe tbody tr th {\n",
              "        vertical-align: top;\n",
              "    }\n",
              "\n",
              "    .dataframe thead th {\n",
              "        text-align: right;\n",
              "    }\n",
              "</style>\n",
              "<table border=\"1\" class=\"dataframe\">\n",
              "  <thead>\n",
              "    <tr style=\"text-align: right;\">\n",
              "      <th></th>\n",
              "      <th>Id</th>\n",
              "      <th>SalePrice</th>\n",
              "    </tr>\n",
              "  </thead>\n",
              "  <tbody>\n",
              "    <tr>\n",
              "      <th>0</th>\n",
              "      <td>1461</td>\n",
              "      <td>169277.052498</td>\n",
              "    </tr>\n",
              "    <tr>\n",
              "      <th>2</th>\n",
              "      <td>1463</td>\n",
              "      <td>183583.683570</td>\n",
              "    </tr>\n",
              "    <tr>\n",
              "      <th>10</th>\n",
              "      <td>1471</td>\n",
              "      <td>157933.279456</td>\n",
              "    </tr>\n",
              "    <tr>\n",
              "      <th>11</th>\n",
              "      <td>1472</td>\n",
              "      <td>145291.245020</td>\n",
              "    </tr>\n",
              "    <tr>\n",
              "      <th>14</th>\n",
              "      <td>1475</td>\n",
              "      <td>150891.638244</td>\n",
              "    </tr>\n",
              "    <tr>\n",
              "      <th>...</th>\n",
              "      <td>...</td>\n",
              "      <td>...</td>\n",
              "    </tr>\n",
              "    <tr>\n",
              "      <th>1451</th>\n",
              "      <td>2912</td>\n",
              "      <td>188506.431412</td>\n",
              "    </tr>\n",
              "    <tr>\n",
              "      <th>1452</th>\n",
              "      <td>2913</td>\n",
              "      <td>172917.456816</td>\n",
              "    </tr>\n",
              "    <tr>\n",
              "      <th>1453</th>\n",
              "      <td>2914</td>\n",
              "      <td>166274.325226</td>\n",
              "    </tr>\n",
              "    <tr>\n",
              "      <th>1454</th>\n",
              "      <td>2915</td>\n",
              "      <td>167081.220949</td>\n",
              "    </tr>\n",
              "    <tr>\n",
              "      <th>1457</th>\n",
              "      <td>2918</td>\n",
              "      <td>184924.279659</td>\n",
              "    </tr>\n",
              "  </tbody>\n",
              "</table>\n",
              "<p>314 rows × 2 columns</p>\n",
              "</div>\n",
              "      <button class=\"colab-df-convert\" onclick=\"convertToInteractive('df-382846ca-ef9b-47a9-8cc3-9c39cf662b16')\"\n",
              "              title=\"Convert this dataframe to an interactive table.\"\n",
              "              style=\"display:none;\">\n",
              "        \n",
              "  <svg xmlns=\"http://www.w3.org/2000/svg\" height=\"24px\"viewBox=\"0 0 24 24\"\n",
              "       width=\"24px\">\n",
              "    <path d=\"M0 0h24v24H0V0z\" fill=\"none\"/>\n",
              "    <path d=\"M18.56 5.44l.94 2.06.94-2.06 2.06-.94-2.06-.94-.94-2.06-.94 2.06-2.06.94zm-11 1L8.5 8.5l.94-2.06 2.06-.94-2.06-.94L8.5 2.5l-.94 2.06-2.06.94zm10 10l.94 2.06.94-2.06 2.06-.94-2.06-.94-.94-2.06-.94 2.06-2.06.94z\"/><path d=\"M17.41 7.96l-1.37-1.37c-.4-.4-.92-.59-1.43-.59-.52 0-1.04.2-1.43.59L10.3 9.45l-7.72 7.72c-.78.78-.78 2.05 0 2.83L4 21.41c.39.39.9.59 1.41.59.51 0 1.02-.2 1.41-.59l7.78-7.78 2.81-2.81c.8-.78.8-2.07 0-2.86zM5.41 20L4 18.59l7.72-7.72 1.47 1.35L5.41 20z\"/>\n",
              "  </svg>\n",
              "      </button>\n",
              "      \n",
              "  <style>\n",
              "    .colab-df-container {\n",
              "      display:flex;\n",
              "      flex-wrap:wrap;\n",
              "      gap: 12px;\n",
              "    }\n",
              "\n",
              "    .colab-df-convert {\n",
              "      background-color: #E8F0FE;\n",
              "      border: none;\n",
              "      border-radius: 50%;\n",
              "      cursor: pointer;\n",
              "      display: none;\n",
              "      fill: #1967D2;\n",
              "      height: 32px;\n",
              "      padding: 0 0 0 0;\n",
              "      width: 32px;\n",
              "    }\n",
              "\n",
              "    .colab-df-convert:hover {\n",
              "      background-color: #E2EBFA;\n",
              "      box-shadow: 0px 1px 2px rgba(60, 64, 67, 0.3), 0px 1px 3px 1px rgba(60, 64, 67, 0.15);\n",
              "      fill: #174EA6;\n",
              "    }\n",
              "\n",
              "    [theme=dark] .colab-df-convert {\n",
              "      background-color: #3B4455;\n",
              "      fill: #D2E3FC;\n",
              "    }\n",
              "\n",
              "    [theme=dark] .colab-df-convert:hover {\n",
              "      background-color: #434B5C;\n",
              "      box-shadow: 0px 1px 3px 1px rgba(0, 0, 0, 0.15);\n",
              "      filter: drop-shadow(0px 1px 2px rgba(0, 0, 0, 0.3));\n",
              "      fill: #FFFFFF;\n",
              "    }\n",
              "  </style>\n",
              "\n",
              "      <script>\n",
              "        const buttonEl =\n",
              "          document.querySelector('#df-382846ca-ef9b-47a9-8cc3-9c39cf662b16 button.colab-df-convert');\n",
              "        buttonEl.style.display =\n",
              "          google.colab.kernel.accessAllowed ? 'block' : 'none';\n",
              "\n",
              "        async function convertToInteractive(key) {\n",
              "          const element = document.querySelector('#df-382846ca-ef9b-47a9-8cc3-9c39cf662b16');\n",
              "          const dataTable =\n",
              "            await google.colab.kernel.invokeFunction('convertToInteractive',\n",
              "                                                     [key], {});\n",
              "          if (!dataTable) return;\n",
              "\n",
              "          const docLinkHtml = 'Like what you see? Visit the ' +\n",
              "            '<a target=\"_blank\" href=https://colab.research.google.com/notebooks/data_table.ipynb>data table notebook</a>'\n",
              "            + ' to learn more about interactive tables.';\n",
              "          element.innerHTML = '';\n",
              "          dataTable['output_type'] = 'display_data';\n",
              "          await google.colab.output.renderOutput(dataTable, element);\n",
              "          const docLink = document.createElement('div');\n",
              "          docLink.innerHTML = docLinkHtml;\n",
              "          element.appendChild(docLink);\n",
              "        }\n",
              "      </script>\n",
              "    </div>\n",
              "  </div>\n",
              "  "
            ]
          },
          "metadata": {},
          "execution_count": 50
        }
      ]
    },
    {
      "cell_type": "markdown",
      "source": [
        "Akan dilakukan uji Hipotesis dimana Uji Hipotesis adalah metode pengambilan keputusan yang didasarkan dari analisis data, baik dari percobaan yang terkontrol, maupun dari observasi (tidak terkontrol).\n",
        "Dimana: \n",
        "*   H0 = Kebanyakan Harga dijual diatas rata-rata\n",
        "*   H1 = Kebanyakan Harga dijual dibawah rata-rata\n",
        "\n"
      ],
      "metadata": {
        "id": "JL6ow9lj1N8Z"
      }
    },
    {
      "cell_type": "code",
      "source": [
        "import scipy.stats as st"
      ],
      "metadata": {
        "id": "CCtikA0b0q0k"
      },
      "execution_count": null,
      "outputs": []
    },
    {
      "cell_type": "code",
      "source": [
        "?st.ttest_ind"
      ],
      "metadata": {
        "id": "qUAs7kIv0yiv"
      },
      "execution_count": null,
      "outputs": []
    },
    {
      "cell_type": "code",
      "source": [
        "mean = np.mean(data[\"SalePrice\"])\n",
        "mean"
      ],
      "metadata": {
        "colab": {
          "base_uri": "https://localhost:8080/"
        },
        "id": "MY-QOG4OvvmS",
        "outputId": "ec669046-0837-4862-af0b-eb629fc442ae"
      },
      "execution_count": null,
      "outputs": [
        {
          "output_type": "execute_result",
          "data": {
            "text/plain": [
              "179183.91824266282"
            ]
          },
          "metadata": {},
          "execution_count": 53
        }
      ]
    },
    {
      "cell_type": "code",
      "source": [
        "mean = int(mean)\n",
        "mean"
      ],
      "metadata": {
        "colab": {
          "base_uri": "https://localhost:8080/"
        },
        "id": "2EqRseXLxklL",
        "outputId": "e1056e56-28db-42c9-8abe-970a26409608"
      },
      "execution_count": null,
      "outputs": [
        {
          "output_type": "execute_result",
          "data": {
            "text/plain": [
              "179183"
            ]
          },
          "metadata": {},
          "execution_count": 54
        }
      ]
    },
    {
      "cell_type": "code",
      "source": [
        "upper_mean = data[data[\"SalePrice\"].astype(int) >= mean]\n",
        "lower_mean = data[data[\"SalePrice\"].astype(int) < mean]\n",
        "print(upper_mean)\n",
        "print(lower_mean)"
      ],
      "metadata": {
        "colab": {
          "base_uri": "https://localhost:8080/"
        },
        "id": "4ctd9dam4OMp",
        "outputId": "ad5d7775-3026-4774-f01d-ce9b51e89bdf"
      },
      "execution_count": null,
      "outputs": [
        {
          "output_type": "stream",
          "name": "stdout",
          "text": [
            "        Id      SalePrice\n",
            "1     1462  187758.393989\n",
            "2     1463  183583.683570\n",
            "3     1464  179317.477511\n",
            "15    1476  179460.965187\n",
            "16    1477  185034.628914\n",
            "...    ...            ...\n",
            "1448  2909  196526.002999\n",
            "1451  2912  188506.431412\n",
            "1456  2917  219222.423400\n",
            "1457  2918  184924.279659\n",
            "1458  2919  187741.866657\n",
            "\n",
            "[735 rows x 2 columns]\n",
            "        Id      SalePrice\n",
            "0     1461  169277.052498\n",
            "4     1465  150730.079977\n",
            "5     1466  177150.989247\n",
            "6     1467  172070.659229\n",
            "7     1468  175110.956520\n",
            "...    ...            ...\n",
            "1450  2911  165086.775062\n",
            "1452  2913  172917.456816\n",
            "1453  2914  166274.325226\n",
            "1454  2915  167081.220949\n",
            "1455  2916  164788.778231\n",
            "\n",
            "[724 rows x 2 columns]\n"
          ]
        }
      ]
    },
    {
      "cell_type": "code",
      "source": [
        "upper_mean.mean()"
      ],
      "metadata": {
        "colab": {
          "base_uri": "https://localhost:8080/"
        },
        "id": "ywLUghyttzMf",
        "outputId": "8451b9b4-4fc2-4d3f-ac29-2e7c85777e43"
      },
      "execution_count": null,
      "outputs": [
        {
          "output_type": "execute_result",
          "data": {
            "text/plain": [
              "Id             2237.526531\n",
              "SalePrice    191089.346821\n",
              "dtype: float64"
            ]
          },
          "metadata": {},
          "execution_count": 57
        }
      ]
    },
    {
      "cell_type": "code",
      "source": [
        "lower_mean.mean()"
      ],
      "metadata": {
        "colab": {
          "base_uri": "https://localhost:8080/"
        },
        "id": "5BkzRMSit8L2",
        "outputId": "45a09e67-01a6-4c68-ec2c-7e9fd5e018a7"
      },
      "execution_count": null,
      "outputs": [
        {
          "output_type": "execute_result",
          "data": {
            "text/plain": [
              "Id             2141.751381\n",
              "SalePrice    167097.606081\n",
              "dtype: float64"
            ]
          },
          "metadata": {},
          "execution_count": 58
        }
      ]
    },
    {
      "cell_type": "code",
      "source": [
        "uji_t = st.ttest_ind(a = upper_mean[\"SalePrice\"], b = lower_mean[\"SalePrice\"])\n",
        "P_value = uji_t.pvalue\n",
        "print(\"Nilai P-value:\", p_value)"
      ],
      "metadata": {
        "colab": {
          "base_uri": "https://localhost:8080/"
        },
        "id": "2K8rgL0p4ocF",
        "outputId": "346e2ab9-e42f-4ce1-a536-aefa99baee81"
      },
      "execution_count": null,
      "outputs": [
        {
          "output_type": "stream",
          "name": "stdout",
          "text": [
            "Nilai P-value: 1.3605800103360542e-239\n"
          ]
        }
      ]
    },
    {
      "cell_type": "code",
      "source": [
        "if p_value >= 0.05:\n",
        "  print(\"Terima H0\")\n",
        "else:\n",
        "  print(\"Tolak H0\")"
      ],
      "metadata": {
        "colab": {
          "base_uri": "https://localhost:8080/"
        },
        "id": "XT-N0JluyP_q",
        "outputId": "ec1a95eb-8d24-4f62-fc29-0a17e9aa0b2a"
      },
      "execution_count": null,
      "outputs": [
        {
          "output_type": "stream",
          "name": "stdout",
          "text": [
            "Tolak H0\n"
          ]
        }
      ]
    },
    {
      "cell_type": "markdown",
      "source": [
        "Jadi berdasarkan uji hipotesis yang telah dilakukan diatas maka dapat disimpulkan bahwa Kebanyakan Harga dijual dibawah rata-rata (dimana tolak H0 -> terima H1)."
      ],
      "metadata": {
        "id": "ETzg4RC_yaFA"
      }
    },
    {
      "cell_type": "markdown",
      "source": [
        "# 4. Distribusi ini memiliki ciri-ciri memberikan 2 hasil yakni sukses dan gagal dan memiliki jumlah percobaan sebanyak satu. Distribusi ini adalah\n",
        "\n",
        "* (a) Poisson\n",
        "* **(b) Binomial (v)**\n",
        "* (c) Bernoulli\n",
        "* (d) Uniform\n",
        "* (e) Chi-Square\n",
        "\n"
      ],
      "metadata": {
        "id": "-cZM-_uim5l9"
      }
    },
    {
      "cell_type": "markdown",
      "source": [
        "# 5. Berikut ini yang bukan merupakan ciri-ciri kurva distribusi normal adalah\n",
        "* (a) Memiliki pola kurva yang asimetris\n",
        "* **(b) Memiliki asimtot datar sumbu y (v)**\n",
        "* (c) Luas kurva sebelah kanan dan kiri masing-masing 0,5\n",
        "* (d) Kurva selalu berada di atas sumbu x\n",
        "* (e) Luas kurva sama dengan 1"
      ],
      "metadata": {
        "id": "LNAX6x-znX_a"
      }
    },
    {
      "cell_type": "markdown",
      "source": [
        "# 6. Peluang seseorang mengidap penyakit tertentu adalah 0,008. Berapa peluang bahwa terdapat 25 orang mengidap penyakit ini dari total 2000 orang?\n",
        "* (a) 0,0092\n",
        "* (b) 0,092\n",
        "* (c) 0,92\n",
        "* **(d) 0,028 (v)**\n",
        "* (e) 0,0028"
      ],
      "metadata": {
        "id": "ayameFk8nhAG"
      }
    }
  ]
}