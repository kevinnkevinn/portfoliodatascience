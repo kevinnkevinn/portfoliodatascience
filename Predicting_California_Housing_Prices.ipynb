{
  "nbformat": 4,
  "nbformat_minor": 0,
  "metadata": {
    "colab": {
      "provenance": []
    },
    "kernelspec": {
      "name": "python3",
      "display_name": "Python 3"
    },
    "language_info": {
      "name": "python"
    }
  },
  "cells": [
    {
      "cell_type": "code",
      "metadata": {
        "colab": {
          "base_uri": "https://localhost:8080/"
        },
        "id": "lR5rfVZcz_kh",
        "outputId": "2f7ec95c-f8d8-4dfb-9a9d-c580a258d12b"
      },
      "source": [
        "!mkdir ~/.kaggle\n",
        "!cp kaggle.json ~/.kaggle/\n",
        "!chmod 600 ~/.kaggle/kaggle.json\n",
        "!kaggle datasets download -d camnugent/california-housing-prices"
      ],
      "execution_count": null,
      "outputs": [
        {
          "output_type": "stream",
          "name": "stdout",
          "text": [
            "Downloading california-housing-prices.zip to /content\n",
            "\r  0% 0.00/400k [00:00<?, ?B/s]\n",
            "\r100% 400k/400k [00:00<00:00, 59.9MB/s]\n"
          ]
        }
      ]
    },
    {
      "cell_type": "code",
      "metadata": {
        "colab": {
          "base_uri": "https://localhost:8080/"
        },
        "id": "htBqNVJL2G-S",
        "outputId": "46608c4f-20c1-478d-8435-35496e9d2139"
      },
      "source": [
        "!unzip california-housing-prices.zip"
      ],
      "execution_count": null,
      "outputs": [
        {
          "output_type": "stream",
          "name": "stdout",
          "text": [
            "Archive:  california-housing-prices.zip\n",
            "  inflating: housing.csv             \n"
          ]
        }
      ]
    },
    {
      "cell_type": "code",
      "metadata": {
        "colab": {
          "base_uri": "https://localhost:8080/",
          "height": 442
        },
        "id": "7ceZ1BOS2Xws",
        "outputId": "6f0ac96d-907f-4130-fa92-30d417058cd5"
      },
      "source": [
        "import pandas as pd\n",
        "\n",
        "housing_pd = pd.read_csv('housing.csv')\n",
        "housing_pd"
      ],
      "execution_count": null,
      "outputs": [
        {
          "output_type": "execute_result",
          "data": {
            "text/html": [
              "<div>\n",
              "<style scoped>\n",
              "    .dataframe tbody tr th:only-of-type {\n",
              "        vertical-align: middle;\n",
              "    }\n",
              "\n",
              "    .dataframe tbody tr th {\n",
              "        vertical-align: top;\n",
              "    }\n",
              "\n",
              "    .dataframe thead th {\n",
              "        text-align: right;\n",
              "    }\n",
              "</style>\n",
              "<table border=\"1\" class=\"dataframe\">\n",
              "  <thead>\n",
              "    <tr style=\"text-align: right;\">\n",
              "      <th></th>\n",
              "      <th>longitude</th>\n",
              "      <th>latitude</th>\n",
              "      <th>housing_median_age</th>\n",
              "      <th>total_rooms</th>\n",
              "      <th>total_bedrooms</th>\n",
              "      <th>population</th>\n",
              "      <th>households</th>\n",
              "      <th>median_income</th>\n",
              "      <th>median_house_value</th>\n",
              "      <th>ocean_proximity</th>\n",
              "    </tr>\n",
              "  </thead>\n",
              "  <tbody>\n",
              "    <tr>\n",
              "      <th>0</th>\n",
              "      <td>-122.23</td>\n",
              "      <td>37.88</td>\n",
              "      <td>41.0</td>\n",
              "      <td>880.0</td>\n",
              "      <td>129.0</td>\n",
              "      <td>322.0</td>\n",
              "      <td>126.0</td>\n",
              "      <td>8.3252</td>\n",
              "      <td>452600.0</td>\n",
              "      <td>NEAR BAY</td>\n",
              "    </tr>\n",
              "    <tr>\n",
              "      <th>1</th>\n",
              "      <td>-122.22</td>\n",
              "      <td>37.86</td>\n",
              "      <td>21.0</td>\n",
              "      <td>7099.0</td>\n",
              "      <td>1106.0</td>\n",
              "      <td>2401.0</td>\n",
              "      <td>1138.0</td>\n",
              "      <td>8.3014</td>\n",
              "      <td>358500.0</td>\n",
              "      <td>NEAR BAY</td>\n",
              "    </tr>\n",
              "    <tr>\n",
              "      <th>2</th>\n",
              "      <td>-122.24</td>\n",
              "      <td>37.85</td>\n",
              "      <td>52.0</td>\n",
              "      <td>1467.0</td>\n",
              "      <td>190.0</td>\n",
              "      <td>496.0</td>\n",
              "      <td>177.0</td>\n",
              "      <td>7.2574</td>\n",
              "      <td>352100.0</td>\n",
              "      <td>NEAR BAY</td>\n",
              "    </tr>\n",
              "    <tr>\n",
              "      <th>3</th>\n",
              "      <td>-122.25</td>\n",
              "      <td>37.85</td>\n",
              "      <td>52.0</td>\n",
              "      <td>1274.0</td>\n",
              "      <td>235.0</td>\n",
              "      <td>558.0</td>\n",
              "      <td>219.0</td>\n",
              "      <td>5.6431</td>\n",
              "      <td>341300.0</td>\n",
              "      <td>NEAR BAY</td>\n",
              "    </tr>\n",
              "    <tr>\n",
              "      <th>4</th>\n",
              "      <td>-122.25</td>\n",
              "      <td>37.85</td>\n",
              "      <td>52.0</td>\n",
              "      <td>1627.0</td>\n",
              "      <td>280.0</td>\n",
              "      <td>565.0</td>\n",
              "      <td>259.0</td>\n",
              "      <td>3.8462</td>\n",
              "      <td>342200.0</td>\n",
              "      <td>NEAR BAY</td>\n",
              "    </tr>\n",
              "    <tr>\n",
              "      <th>...</th>\n",
              "      <td>...</td>\n",
              "      <td>...</td>\n",
              "      <td>...</td>\n",
              "      <td>...</td>\n",
              "      <td>...</td>\n",
              "      <td>...</td>\n",
              "      <td>...</td>\n",
              "      <td>...</td>\n",
              "      <td>...</td>\n",
              "      <td>...</td>\n",
              "    </tr>\n",
              "    <tr>\n",
              "      <th>20635</th>\n",
              "      <td>-121.09</td>\n",
              "      <td>39.48</td>\n",
              "      <td>25.0</td>\n",
              "      <td>1665.0</td>\n",
              "      <td>374.0</td>\n",
              "      <td>845.0</td>\n",
              "      <td>330.0</td>\n",
              "      <td>1.5603</td>\n",
              "      <td>78100.0</td>\n",
              "      <td>INLAND</td>\n",
              "    </tr>\n",
              "    <tr>\n",
              "      <th>20636</th>\n",
              "      <td>-121.21</td>\n",
              "      <td>39.49</td>\n",
              "      <td>18.0</td>\n",
              "      <td>697.0</td>\n",
              "      <td>150.0</td>\n",
              "      <td>356.0</td>\n",
              "      <td>114.0</td>\n",
              "      <td>2.5568</td>\n",
              "      <td>77100.0</td>\n",
              "      <td>INLAND</td>\n",
              "    </tr>\n",
              "    <tr>\n",
              "      <th>20637</th>\n",
              "      <td>-121.22</td>\n",
              "      <td>39.43</td>\n",
              "      <td>17.0</td>\n",
              "      <td>2254.0</td>\n",
              "      <td>485.0</td>\n",
              "      <td>1007.0</td>\n",
              "      <td>433.0</td>\n",
              "      <td>1.7000</td>\n",
              "      <td>92300.0</td>\n",
              "      <td>INLAND</td>\n",
              "    </tr>\n",
              "    <tr>\n",
              "      <th>20638</th>\n",
              "      <td>-121.32</td>\n",
              "      <td>39.43</td>\n",
              "      <td>18.0</td>\n",
              "      <td>1860.0</td>\n",
              "      <td>409.0</td>\n",
              "      <td>741.0</td>\n",
              "      <td>349.0</td>\n",
              "      <td>1.8672</td>\n",
              "      <td>84700.0</td>\n",
              "      <td>INLAND</td>\n",
              "    </tr>\n",
              "    <tr>\n",
              "      <th>20639</th>\n",
              "      <td>-121.24</td>\n",
              "      <td>39.37</td>\n",
              "      <td>16.0</td>\n",
              "      <td>2785.0</td>\n",
              "      <td>616.0</td>\n",
              "      <td>1387.0</td>\n",
              "      <td>530.0</td>\n",
              "      <td>2.3886</td>\n",
              "      <td>89400.0</td>\n",
              "      <td>INLAND</td>\n",
              "    </tr>\n",
              "  </tbody>\n",
              "</table>\n",
              "<p>20640 rows × 10 columns</p>\n",
              "</div>"
            ],
            "text/plain": [
              "       longitude  latitude  ...  median_house_value  ocean_proximity\n",
              "0        -122.23     37.88  ...            452600.0         NEAR BAY\n",
              "1        -122.22     37.86  ...            358500.0         NEAR BAY\n",
              "2        -122.24     37.85  ...            352100.0         NEAR BAY\n",
              "3        -122.25     37.85  ...            341300.0         NEAR BAY\n",
              "4        -122.25     37.85  ...            342200.0         NEAR BAY\n",
              "...          ...       ...  ...                 ...              ...\n",
              "20635    -121.09     39.48  ...             78100.0           INLAND\n",
              "20636    -121.21     39.49  ...             77100.0           INLAND\n",
              "20637    -121.22     39.43  ...             92300.0           INLAND\n",
              "20638    -121.32     39.43  ...             84700.0           INLAND\n",
              "20639    -121.24     39.37  ...             89400.0           INLAND\n",
              "\n",
              "[20640 rows x 10 columns]"
            ]
          },
          "metadata": {},
          "execution_count": 7
        }
      ]
    },
    {
      "cell_type": "code",
      "metadata": {
        "colab": {
          "base_uri": "https://localhost:8080/"
        },
        "id": "JzHJWLxM2o2b",
        "outputId": "b2e2adfc-ade3-4153-82e1-75191ab3eb41"
      },
      "source": [
        "housing_pd['ocean_proximity'].value_counts()"
      ],
      "execution_count": null,
      "outputs": [
        {
          "output_type": "execute_result",
          "data": {
            "text/plain": [
              "<1H OCEAN     9136\n",
              "INLAND        6551\n",
              "NEAR OCEAN    2658\n",
              "NEAR BAY      2290\n",
              "ISLAND           5\n",
              "Name: ocean_proximity, dtype: int64"
            ]
          },
          "metadata": {},
          "execution_count": 6
        }
      ]
    },
    {
      "cell_type": "code",
      "metadata": {
        "colab": {
          "base_uri": "https://localhost:8080/",
          "height": 442
        },
        "id": "ZTGNg1P426ef",
        "outputId": "34e324bf-395c-484a-9a15-f85388b71799"
      },
      "source": [
        "housing_pd_shuffled = housing_pd.sample(n=len(housing_pd), random_state=1)\n",
        "housing_pd_shuffled"
      ],
      "execution_count": null,
      "outputs": [
        {
          "output_type": "execute_result",
          "data": {
            "text/html": [
              "<div>\n",
              "<style scoped>\n",
              "    .dataframe tbody tr th:only-of-type {\n",
              "        vertical-align: middle;\n",
              "    }\n",
              "\n",
              "    .dataframe tbody tr th {\n",
              "        vertical-align: top;\n",
              "    }\n",
              "\n",
              "    .dataframe thead th {\n",
              "        text-align: right;\n",
              "    }\n",
              "</style>\n",
              "<table border=\"1\" class=\"dataframe\">\n",
              "  <thead>\n",
              "    <tr style=\"text-align: right;\">\n",
              "      <th></th>\n",
              "      <th>longitude</th>\n",
              "      <th>latitude</th>\n",
              "      <th>housing_median_age</th>\n",
              "      <th>total_rooms</th>\n",
              "      <th>total_bedrooms</th>\n",
              "      <th>population</th>\n",
              "      <th>households</th>\n",
              "      <th>median_income</th>\n",
              "      <th>median_house_value</th>\n",
              "      <th>ocean_proximity</th>\n",
              "    </tr>\n",
              "  </thead>\n",
              "  <tbody>\n",
              "    <tr>\n",
              "      <th>4712</th>\n",
              "      <td>-118.36</td>\n",
              "      <td>34.06</td>\n",
              "      <td>39.0</td>\n",
              "      <td>2810.0</td>\n",
              "      <td>670.0</td>\n",
              "      <td>1109.0</td>\n",
              "      <td>624.0</td>\n",
              "      <td>3.2500</td>\n",
              "      <td>355000.0</td>\n",
              "      <td>&lt;1H OCEAN</td>\n",
              "    </tr>\n",
              "    <tr>\n",
              "      <th>2151</th>\n",
              "      <td>-119.78</td>\n",
              "      <td>36.78</td>\n",
              "      <td>37.0</td>\n",
              "      <td>2185.0</td>\n",
              "      <td>455.0</td>\n",
              "      <td>1143.0</td>\n",
              "      <td>438.0</td>\n",
              "      <td>1.9784</td>\n",
              "      <td>70700.0</td>\n",
              "      <td>INLAND</td>\n",
              "    </tr>\n",
              "    <tr>\n",
              "      <th>15927</th>\n",
              "      <td>-122.42</td>\n",
              "      <td>37.73</td>\n",
              "      <td>46.0</td>\n",
              "      <td>1819.0</td>\n",
              "      <td>411.0</td>\n",
              "      <td>1534.0</td>\n",
              "      <td>406.0</td>\n",
              "      <td>4.0132</td>\n",
              "      <td>229400.0</td>\n",
              "      <td>NEAR BAY</td>\n",
              "    </tr>\n",
              "    <tr>\n",
              "      <th>82</th>\n",
              "      <td>-122.28</td>\n",
              "      <td>37.81</td>\n",
              "      <td>52.0</td>\n",
              "      <td>340.0</td>\n",
              "      <td>97.0</td>\n",
              "      <td>200.0</td>\n",
              "      <td>87.0</td>\n",
              "      <td>1.5208</td>\n",
              "      <td>112500.0</td>\n",
              "      <td>NEAR BAY</td>\n",
              "    </tr>\n",
              "    <tr>\n",
              "      <th>8161</th>\n",
              "      <td>-118.13</td>\n",
              "      <td>33.82</td>\n",
              "      <td>37.0</td>\n",
              "      <td>1530.0</td>\n",
              "      <td>290.0</td>\n",
              "      <td>711.0</td>\n",
              "      <td>283.0</td>\n",
              "      <td>5.1795</td>\n",
              "      <td>225400.0</td>\n",
              "      <td>&lt;1H OCEAN</td>\n",
              "    </tr>\n",
              "    <tr>\n",
              "      <th>...</th>\n",
              "      <td>...</td>\n",
              "      <td>...</td>\n",
              "      <td>...</td>\n",
              "      <td>...</td>\n",
              "      <td>...</td>\n",
              "      <td>...</td>\n",
              "      <td>...</td>\n",
              "      <td>...</td>\n",
              "      <td>...</td>\n",
              "      <td>...</td>\n",
              "    </tr>\n",
              "    <tr>\n",
              "      <th>10955</th>\n",
              "      <td>-117.88</td>\n",
              "      <td>33.76</td>\n",
              "      <td>17.0</td>\n",
              "      <td>1768.0</td>\n",
              "      <td>474.0</td>\n",
              "      <td>1079.0</td>\n",
              "      <td>436.0</td>\n",
              "      <td>1.7823</td>\n",
              "      <td>205300.0</td>\n",
              "      <td>&lt;1H OCEAN</td>\n",
              "    </tr>\n",
              "    <tr>\n",
              "      <th>17289</th>\n",
              "      <td>-119.63</td>\n",
              "      <td>34.42</td>\n",
              "      <td>42.0</td>\n",
              "      <td>1765.0</td>\n",
              "      <td>263.0</td>\n",
              "      <td>753.0</td>\n",
              "      <td>260.0</td>\n",
              "      <td>8.5608</td>\n",
              "      <td>500001.0</td>\n",
              "      <td>&lt;1H OCEAN</td>\n",
              "    </tr>\n",
              "    <tr>\n",
              "      <th>5192</th>\n",
              "      <td>-118.26</td>\n",
              "      <td>33.93</td>\n",
              "      <td>42.0</td>\n",
              "      <td>1433.0</td>\n",
              "      <td>295.0</td>\n",
              "      <td>775.0</td>\n",
              "      <td>293.0</td>\n",
              "      <td>1.1326</td>\n",
              "      <td>104800.0</td>\n",
              "      <td>&lt;1H OCEAN</td>\n",
              "    </tr>\n",
              "    <tr>\n",
              "      <th>12172</th>\n",
              "      <td>-117.16</td>\n",
              "      <td>33.73</td>\n",
              "      <td>10.0</td>\n",
              "      <td>2381.0</td>\n",
              "      <td>454.0</td>\n",
              "      <td>1323.0</td>\n",
              "      <td>477.0</td>\n",
              "      <td>2.6322</td>\n",
              "      <td>140700.0</td>\n",
              "      <td>INLAND</td>\n",
              "    </tr>\n",
              "    <tr>\n",
              "      <th>235</th>\n",
              "      <td>-122.20</td>\n",
              "      <td>37.79</td>\n",
              "      <td>35.0</td>\n",
              "      <td>1802.0</td>\n",
              "      <td>459.0</td>\n",
              "      <td>1009.0</td>\n",
              "      <td>390.0</td>\n",
              "      <td>2.3036</td>\n",
              "      <td>126000.0</td>\n",
              "      <td>NEAR BAY</td>\n",
              "    </tr>\n",
              "  </tbody>\n",
              "</table>\n",
              "<p>20640 rows × 10 columns</p>\n",
              "</div>"
            ],
            "text/plain": [
              "       longitude  latitude  ...  median_house_value  ocean_proximity\n",
              "4712     -118.36     34.06  ...            355000.0        <1H OCEAN\n",
              "2151     -119.78     36.78  ...             70700.0           INLAND\n",
              "15927    -122.42     37.73  ...            229400.0         NEAR BAY\n",
              "82       -122.28     37.81  ...            112500.0         NEAR BAY\n",
              "8161     -118.13     33.82  ...            225400.0        <1H OCEAN\n",
              "...          ...       ...  ...                 ...              ...\n",
              "10955    -117.88     33.76  ...            205300.0        <1H OCEAN\n",
              "17289    -119.63     34.42  ...            500001.0        <1H OCEAN\n",
              "5192     -118.26     33.93  ...            104800.0        <1H OCEAN\n",
              "12172    -117.16     33.73  ...            140700.0           INLAND\n",
              "235      -122.20     37.79  ...            126000.0         NEAR BAY\n",
              "\n",
              "[20640 rows x 10 columns]"
            ]
          },
          "metadata": {},
          "execution_count": 8
        }
      ]
    },
    {
      "cell_type": "code",
      "metadata": {
        "colab": {
          "base_uri": "https://localhost:8080/",
          "height": 205
        },
        "id": "fUOSxYJg44xV",
        "outputId": "a097e8ea-eb2e-4a57-e3ed-1769c1b2704a"
      },
      "source": [
        "pd.get_dummies(housing_pd_shuffled['ocean_proximity']).head()"
      ],
      "execution_count": null,
      "outputs": [
        {
          "output_type": "execute_result",
          "data": {
            "text/html": [
              "<div>\n",
              "<style scoped>\n",
              "    .dataframe tbody tr th:only-of-type {\n",
              "        vertical-align: middle;\n",
              "    }\n",
              "\n",
              "    .dataframe tbody tr th {\n",
              "        vertical-align: top;\n",
              "    }\n",
              "\n",
              "    .dataframe thead th {\n",
              "        text-align: right;\n",
              "    }\n",
              "</style>\n",
              "<table border=\"1\" class=\"dataframe\">\n",
              "  <thead>\n",
              "    <tr style=\"text-align: right;\">\n",
              "      <th></th>\n",
              "      <th>&lt;1H OCEAN</th>\n",
              "      <th>INLAND</th>\n",
              "      <th>ISLAND</th>\n",
              "      <th>NEAR BAY</th>\n",
              "      <th>NEAR OCEAN</th>\n",
              "    </tr>\n",
              "  </thead>\n",
              "  <tbody>\n",
              "    <tr>\n",
              "      <th>4712</th>\n",
              "      <td>1</td>\n",
              "      <td>0</td>\n",
              "      <td>0</td>\n",
              "      <td>0</td>\n",
              "      <td>0</td>\n",
              "    </tr>\n",
              "    <tr>\n",
              "      <th>2151</th>\n",
              "      <td>0</td>\n",
              "      <td>1</td>\n",
              "      <td>0</td>\n",
              "      <td>0</td>\n",
              "      <td>0</td>\n",
              "    </tr>\n",
              "    <tr>\n",
              "      <th>15927</th>\n",
              "      <td>0</td>\n",
              "      <td>0</td>\n",
              "      <td>0</td>\n",
              "      <td>1</td>\n",
              "      <td>0</td>\n",
              "    </tr>\n",
              "    <tr>\n",
              "      <th>82</th>\n",
              "      <td>0</td>\n",
              "      <td>0</td>\n",
              "      <td>0</td>\n",
              "      <td>1</td>\n",
              "      <td>0</td>\n",
              "    </tr>\n",
              "    <tr>\n",
              "      <th>8161</th>\n",
              "      <td>1</td>\n",
              "      <td>0</td>\n",
              "      <td>0</td>\n",
              "      <td>0</td>\n",
              "      <td>0</td>\n",
              "    </tr>\n",
              "  </tbody>\n",
              "</table>\n",
              "</div>"
            ],
            "text/plain": [
              "       <1H OCEAN  INLAND  ISLAND  NEAR BAY  NEAR OCEAN\n",
              "4712           1       0       0         0           0\n",
              "2151           0       1       0         0           0\n",
              "15927          0       0       0         1           0\n",
              "82             0       0       0         1           0\n",
              "8161           1       0       0         0           0"
            ]
          },
          "metadata": {},
          "execution_count": 9
        }
      ]
    },
    {
      "cell_type": "code",
      "metadata": {
        "colab": {
          "base_uri": "https://localhost:8080/",
          "height": 205
        },
        "id": "sSVaa5-L5KdJ",
        "outputId": "edfa66f1-fb08-4269-97d4-477a4e222cd8"
      },
      "source": [
        "housing_pd_shuffled.drop('ocean_proximity', axis=1).head()"
      ],
      "execution_count": null,
      "outputs": [
        {
          "output_type": "execute_result",
          "data": {
            "text/html": [
              "<div>\n",
              "<style scoped>\n",
              "    .dataframe tbody tr th:only-of-type {\n",
              "        vertical-align: middle;\n",
              "    }\n",
              "\n",
              "    .dataframe tbody tr th {\n",
              "        vertical-align: top;\n",
              "    }\n",
              "\n",
              "    .dataframe thead th {\n",
              "        text-align: right;\n",
              "    }\n",
              "</style>\n",
              "<table border=\"1\" class=\"dataframe\">\n",
              "  <thead>\n",
              "    <tr style=\"text-align: right;\">\n",
              "      <th></th>\n",
              "      <th>longitude</th>\n",
              "      <th>latitude</th>\n",
              "      <th>housing_median_age</th>\n",
              "      <th>total_rooms</th>\n",
              "      <th>total_bedrooms</th>\n",
              "      <th>population</th>\n",
              "      <th>households</th>\n",
              "      <th>median_income</th>\n",
              "      <th>median_house_value</th>\n",
              "    </tr>\n",
              "  </thead>\n",
              "  <tbody>\n",
              "    <tr>\n",
              "      <th>4712</th>\n",
              "      <td>-118.36</td>\n",
              "      <td>34.06</td>\n",
              "      <td>39.0</td>\n",
              "      <td>2810.0</td>\n",
              "      <td>670.0</td>\n",
              "      <td>1109.0</td>\n",
              "      <td>624.0</td>\n",
              "      <td>3.2500</td>\n",
              "      <td>355000.0</td>\n",
              "    </tr>\n",
              "    <tr>\n",
              "      <th>2151</th>\n",
              "      <td>-119.78</td>\n",
              "      <td>36.78</td>\n",
              "      <td>37.0</td>\n",
              "      <td>2185.0</td>\n",
              "      <td>455.0</td>\n",
              "      <td>1143.0</td>\n",
              "      <td>438.0</td>\n",
              "      <td>1.9784</td>\n",
              "      <td>70700.0</td>\n",
              "    </tr>\n",
              "    <tr>\n",
              "      <th>15927</th>\n",
              "      <td>-122.42</td>\n",
              "      <td>37.73</td>\n",
              "      <td>46.0</td>\n",
              "      <td>1819.0</td>\n",
              "      <td>411.0</td>\n",
              "      <td>1534.0</td>\n",
              "      <td>406.0</td>\n",
              "      <td>4.0132</td>\n",
              "      <td>229400.0</td>\n",
              "    </tr>\n",
              "    <tr>\n",
              "      <th>82</th>\n",
              "      <td>-122.28</td>\n",
              "      <td>37.81</td>\n",
              "      <td>52.0</td>\n",
              "      <td>340.0</td>\n",
              "      <td>97.0</td>\n",
              "      <td>200.0</td>\n",
              "      <td>87.0</td>\n",
              "      <td>1.5208</td>\n",
              "      <td>112500.0</td>\n",
              "    </tr>\n",
              "    <tr>\n",
              "      <th>8161</th>\n",
              "      <td>-118.13</td>\n",
              "      <td>33.82</td>\n",
              "      <td>37.0</td>\n",
              "      <td>1530.0</td>\n",
              "      <td>290.0</td>\n",
              "      <td>711.0</td>\n",
              "      <td>283.0</td>\n",
              "      <td>5.1795</td>\n",
              "      <td>225400.0</td>\n",
              "    </tr>\n",
              "  </tbody>\n",
              "</table>\n",
              "</div>"
            ],
            "text/plain": [
              "       longitude  latitude  ...  median_income  median_house_value\n",
              "4712     -118.36     34.06  ...         3.2500            355000.0\n",
              "2151     -119.78     36.78  ...         1.9784             70700.0\n",
              "15927    -122.42     37.73  ...         4.0132            229400.0\n",
              "82       -122.28     37.81  ...         1.5208            112500.0\n",
              "8161     -118.13     33.82  ...         5.1795            225400.0\n",
              "\n",
              "[5 rows x 9 columns]"
            ]
          },
          "metadata": {},
          "execution_count": 10
        }
      ]
    },
    {
      "cell_type": "code",
      "metadata": {
        "colab": {
          "base_uri": "https://localhost:8080/",
          "height": 460
        },
        "id": "OwNfYrvC5nFN",
        "outputId": "7a16490e-9c95-4509-f85d-6a85b9bc119e"
      },
      "source": [
        "housing_pd_final = pd.concat([housing_pd_shuffled.drop('ocean_proximity', axis=1),\n",
        "                              pd.get_dummies(housing_pd_shuffled['ocean_proximity'])], axis=1)\n",
        "housing_pd_final"
      ],
      "execution_count": null,
      "outputs": [
        {
          "output_type": "execute_result",
          "data": {
            "text/html": [
              "<div>\n",
              "<style scoped>\n",
              "    .dataframe tbody tr th:only-of-type {\n",
              "        vertical-align: middle;\n",
              "    }\n",
              "\n",
              "    .dataframe tbody tr th {\n",
              "        vertical-align: top;\n",
              "    }\n",
              "\n",
              "    .dataframe thead th {\n",
              "        text-align: right;\n",
              "    }\n",
              "</style>\n",
              "<table border=\"1\" class=\"dataframe\">\n",
              "  <thead>\n",
              "    <tr style=\"text-align: right;\">\n",
              "      <th></th>\n",
              "      <th>longitude</th>\n",
              "      <th>latitude</th>\n",
              "      <th>housing_median_age</th>\n",
              "      <th>total_rooms</th>\n",
              "      <th>total_bedrooms</th>\n",
              "      <th>population</th>\n",
              "      <th>households</th>\n",
              "      <th>median_income</th>\n",
              "      <th>median_house_value</th>\n",
              "      <th>&lt;1H OCEAN</th>\n",
              "      <th>INLAND</th>\n",
              "      <th>ISLAND</th>\n",
              "      <th>NEAR BAY</th>\n",
              "      <th>NEAR OCEAN</th>\n",
              "    </tr>\n",
              "  </thead>\n",
              "  <tbody>\n",
              "    <tr>\n",
              "      <th>4712</th>\n",
              "      <td>-118.36</td>\n",
              "      <td>34.06</td>\n",
              "      <td>39.0</td>\n",
              "      <td>2810.0</td>\n",
              "      <td>670.0</td>\n",
              "      <td>1109.0</td>\n",
              "      <td>624.0</td>\n",
              "      <td>3.2500</td>\n",
              "      <td>355000.0</td>\n",
              "      <td>1</td>\n",
              "      <td>0</td>\n",
              "      <td>0</td>\n",
              "      <td>0</td>\n",
              "      <td>0</td>\n",
              "    </tr>\n",
              "    <tr>\n",
              "      <th>2151</th>\n",
              "      <td>-119.78</td>\n",
              "      <td>36.78</td>\n",
              "      <td>37.0</td>\n",
              "      <td>2185.0</td>\n",
              "      <td>455.0</td>\n",
              "      <td>1143.0</td>\n",
              "      <td>438.0</td>\n",
              "      <td>1.9784</td>\n",
              "      <td>70700.0</td>\n",
              "      <td>0</td>\n",
              "      <td>1</td>\n",
              "      <td>0</td>\n",
              "      <td>0</td>\n",
              "      <td>0</td>\n",
              "    </tr>\n",
              "    <tr>\n",
              "      <th>15927</th>\n",
              "      <td>-122.42</td>\n",
              "      <td>37.73</td>\n",
              "      <td>46.0</td>\n",
              "      <td>1819.0</td>\n",
              "      <td>411.0</td>\n",
              "      <td>1534.0</td>\n",
              "      <td>406.0</td>\n",
              "      <td>4.0132</td>\n",
              "      <td>229400.0</td>\n",
              "      <td>0</td>\n",
              "      <td>0</td>\n",
              "      <td>0</td>\n",
              "      <td>1</td>\n",
              "      <td>0</td>\n",
              "    </tr>\n",
              "    <tr>\n",
              "      <th>82</th>\n",
              "      <td>-122.28</td>\n",
              "      <td>37.81</td>\n",
              "      <td>52.0</td>\n",
              "      <td>340.0</td>\n",
              "      <td>97.0</td>\n",
              "      <td>200.0</td>\n",
              "      <td>87.0</td>\n",
              "      <td>1.5208</td>\n",
              "      <td>112500.0</td>\n",
              "      <td>0</td>\n",
              "      <td>0</td>\n",
              "      <td>0</td>\n",
              "      <td>1</td>\n",
              "      <td>0</td>\n",
              "    </tr>\n",
              "    <tr>\n",
              "      <th>8161</th>\n",
              "      <td>-118.13</td>\n",
              "      <td>33.82</td>\n",
              "      <td>37.0</td>\n",
              "      <td>1530.0</td>\n",
              "      <td>290.0</td>\n",
              "      <td>711.0</td>\n",
              "      <td>283.0</td>\n",
              "      <td>5.1795</td>\n",
              "      <td>225400.0</td>\n",
              "      <td>1</td>\n",
              "      <td>0</td>\n",
              "      <td>0</td>\n",
              "      <td>0</td>\n",
              "      <td>0</td>\n",
              "    </tr>\n",
              "    <tr>\n",
              "      <th>...</th>\n",
              "      <td>...</td>\n",
              "      <td>...</td>\n",
              "      <td>...</td>\n",
              "      <td>...</td>\n",
              "      <td>...</td>\n",
              "      <td>...</td>\n",
              "      <td>...</td>\n",
              "      <td>...</td>\n",
              "      <td>...</td>\n",
              "      <td>...</td>\n",
              "      <td>...</td>\n",
              "      <td>...</td>\n",
              "      <td>...</td>\n",
              "      <td>...</td>\n",
              "    </tr>\n",
              "    <tr>\n",
              "      <th>10955</th>\n",
              "      <td>-117.88</td>\n",
              "      <td>33.76</td>\n",
              "      <td>17.0</td>\n",
              "      <td>1768.0</td>\n",
              "      <td>474.0</td>\n",
              "      <td>1079.0</td>\n",
              "      <td>436.0</td>\n",
              "      <td>1.7823</td>\n",
              "      <td>205300.0</td>\n",
              "      <td>1</td>\n",
              "      <td>0</td>\n",
              "      <td>0</td>\n",
              "      <td>0</td>\n",
              "      <td>0</td>\n",
              "    </tr>\n",
              "    <tr>\n",
              "      <th>17289</th>\n",
              "      <td>-119.63</td>\n",
              "      <td>34.42</td>\n",
              "      <td>42.0</td>\n",
              "      <td>1765.0</td>\n",
              "      <td>263.0</td>\n",
              "      <td>753.0</td>\n",
              "      <td>260.0</td>\n",
              "      <td>8.5608</td>\n",
              "      <td>500001.0</td>\n",
              "      <td>1</td>\n",
              "      <td>0</td>\n",
              "      <td>0</td>\n",
              "      <td>0</td>\n",
              "      <td>0</td>\n",
              "    </tr>\n",
              "    <tr>\n",
              "      <th>5192</th>\n",
              "      <td>-118.26</td>\n",
              "      <td>33.93</td>\n",
              "      <td>42.0</td>\n",
              "      <td>1433.0</td>\n",
              "      <td>295.0</td>\n",
              "      <td>775.0</td>\n",
              "      <td>293.0</td>\n",
              "      <td>1.1326</td>\n",
              "      <td>104800.0</td>\n",
              "      <td>1</td>\n",
              "      <td>0</td>\n",
              "      <td>0</td>\n",
              "      <td>0</td>\n",
              "      <td>0</td>\n",
              "    </tr>\n",
              "    <tr>\n",
              "      <th>12172</th>\n",
              "      <td>-117.16</td>\n",
              "      <td>33.73</td>\n",
              "      <td>10.0</td>\n",
              "      <td>2381.0</td>\n",
              "      <td>454.0</td>\n",
              "      <td>1323.0</td>\n",
              "      <td>477.0</td>\n",
              "      <td>2.6322</td>\n",
              "      <td>140700.0</td>\n",
              "      <td>0</td>\n",
              "      <td>1</td>\n",
              "      <td>0</td>\n",
              "      <td>0</td>\n",
              "      <td>0</td>\n",
              "    </tr>\n",
              "    <tr>\n",
              "      <th>235</th>\n",
              "      <td>-122.20</td>\n",
              "      <td>37.79</td>\n",
              "      <td>35.0</td>\n",
              "      <td>1802.0</td>\n",
              "      <td>459.0</td>\n",
              "      <td>1009.0</td>\n",
              "      <td>390.0</td>\n",
              "      <td>2.3036</td>\n",
              "      <td>126000.0</td>\n",
              "      <td>0</td>\n",
              "      <td>0</td>\n",
              "      <td>0</td>\n",
              "      <td>1</td>\n",
              "      <td>0</td>\n",
              "    </tr>\n",
              "  </tbody>\n",
              "</table>\n",
              "<p>20640 rows × 14 columns</p>\n",
              "</div>"
            ],
            "text/plain": [
              "       longitude  latitude  housing_median_age  ...  ISLAND  NEAR BAY  NEAR OCEAN\n",
              "4712     -118.36     34.06                39.0  ...       0         0           0\n",
              "2151     -119.78     36.78                37.0  ...       0         0           0\n",
              "15927    -122.42     37.73                46.0  ...       0         1           0\n",
              "82       -122.28     37.81                52.0  ...       0         1           0\n",
              "8161     -118.13     33.82                37.0  ...       0         0           0\n",
              "...          ...       ...                 ...  ...     ...       ...         ...\n",
              "10955    -117.88     33.76                17.0  ...       0         0           0\n",
              "17289    -119.63     34.42                42.0  ...       0         0           0\n",
              "5192     -118.26     33.93                42.0  ...       0         0           0\n",
              "12172    -117.16     33.73                10.0  ...       0         0           0\n",
              "235      -122.20     37.79                35.0  ...       0         1           0\n",
              "\n",
              "[20640 rows x 14 columns]"
            ]
          },
          "metadata": {},
          "execution_count": 12
        }
      ]
    },
    {
      "cell_type": "code",
      "metadata": {
        "colab": {
          "base_uri": "https://localhost:8080/",
          "height": 460
        },
        "id": "fWSyL6Wy57fo",
        "outputId": "c8c32e16-9eea-4fa1-c22d-76a1b7633b8b"
      },
      "source": [
        "housing_pd_final = housing_pd_final[['longitude',\t'latitude',\t\n",
        "                                     'housing_median_age',\t'total_rooms',\t\n",
        "                                     'total_bedrooms',\t'population',\t\n",
        "                                     'households',\t'median_income',\t\n",
        "                                     '<1H OCEAN',\t\n",
        "                                     'INLAND',\t'ISLAND',\t\n",
        "                                     'NEAR BAY',\t'NEAR OCEAN', 'median_house_value']]\n",
        "housing_pd_final"
      ],
      "execution_count": null,
      "outputs": [
        {
          "output_type": "execute_result",
          "data": {
            "text/html": [
              "<div>\n",
              "<style scoped>\n",
              "    .dataframe tbody tr th:only-of-type {\n",
              "        vertical-align: middle;\n",
              "    }\n",
              "\n",
              "    .dataframe tbody tr th {\n",
              "        vertical-align: top;\n",
              "    }\n",
              "\n",
              "    .dataframe thead th {\n",
              "        text-align: right;\n",
              "    }\n",
              "</style>\n",
              "<table border=\"1\" class=\"dataframe\">\n",
              "  <thead>\n",
              "    <tr style=\"text-align: right;\">\n",
              "      <th></th>\n",
              "      <th>longitude</th>\n",
              "      <th>latitude</th>\n",
              "      <th>housing_median_age</th>\n",
              "      <th>total_rooms</th>\n",
              "      <th>total_bedrooms</th>\n",
              "      <th>population</th>\n",
              "      <th>households</th>\n",
              "      <th>median_income</th>\n",
              "      <th>&lt;1H OCEAN</th>\n",
              "      <th>INLAND</th>\n",
              "      <th>ISLAND</th>\n",
              "      <th>NEAR BAY</th>\n",
              "      <th>NEAR OCEAN</th>\n",
              "      <th>median_house_value</th>\n",
              "    </tr>\n",
              "  </thead>\n",
              "  <tbody>\n",
              "    <tr>\n",
              "      <th>4712</th>\n",
              "      <td>-118.36</td>\n",
              "      <td>34.06</td>\n",
              "      <td>39.0</td>\n",
              "      <td>2810.0</td>\n",
              "      <td>670.0</td>\n",
              "      <td>1109.0</td>\n",
              "      <td>624.0</td>\n",
              "      <td>3.2500</td>\n",
              "      <td>1</td>\n",
              "      <td>0</td>\n",
              "      <td>0</td>\n",
              "      <td>0</td>\n",
              "      <td>0</td>\n",
              "      <td>355000.0</td>\n",
              "    </tr>\n",
              "    <tr>\n",
              "      <th>2151</th>\n",
              "      <td>-119.78</td>\n",
              "      <td>36.78</td>\n",
              "      <td>37.0</td>\n",
              "      <td>2185.0</td>\n",
              "      <td>455.0</td>\n",
              "      <td>1143.0</td>\n",
              "      <td>438.0</td>\n",
              "      <td>1.9784</td>\n",
              "      <td>0</td>\n",
              "      <td>1</td>\n",
              "      <td>0</td>\n",
              "      <td>0</td>\n",
              "      <td>0</td>\n",
              "      <td>70700.0</td>\n",
              "    </tr>\n",
              "    <tr>\n",
              "      <th>15927</th>\n",
              "      <td>-122.42</td>\n",
              "      <td>37.73</td>\n",
              "      <td>46.0</td>\n",
              "      <td>1819.0</td>\n",
              "      <td>411.0</td>\n",
              "      <td>1534.0</td>\n",
              "      <td>406.0</td>\n",
              "      <td>4.0132</td>\n",
              "      <td>0</td>\n",
              "      <td>0</td>\n",
              "      <td>0</td>\n",
              "      <td>1</td>\n",
              "      <td>0</td>\n",
              "      <td>229400.0</td>\n",
              "    </tr>\n",
              "    <tr>\n",
              "      <th>82</th>\n",
              "      <td>-122.28</td>\n",
              "      <td>37.81</td>\n",
              "      <td>52.0</td>\n",
              "      <td>340.0</td>\n",
              "      <td>97.0</td>\n",
              "      <td>200.0</td>\n",
              "      <td>87.0</td>\n",
              "      <td>1.5208</td>\n",
              "      <td>0</td>\n",
              "      <td>0</td>\n",
              "      <td>0</td>\n",
              "      <td>1</td>\n",
              "      <td>0</td>\n",
              "      <td>112500.0</td>\n",
              "    </tr>\n",
              "    <tr>\n",
              "      <th>8161</th>\n",
              "      <td>-118.13</td>\n",
              "      <td>33.82</td>\n",
              "      <td>37.0</td>\n",
              "      <td>1530.0</td>\n",
              "      <td>290.0</td>\n",
              "      <td>711.0</td>\n",
              "      <td>283.0</td>\n",
              "      <td>5.1795</td>\n",
              "      <td>1</td>\n",
              "      <td>0</td>\n",
              "      <td>0</td>\n",
              "      <td>0</td>\n",
              "      <td>0</td>\n",
              "      <td>225400.0</td>\n",
              "    </tr>\n",
              "    <tr>\n",
              "      <th>...</th>\n",
              "      <td>...</td>\n",
              "      <td>...</td>\n",
              "      <td>...</td>\n",
              "      <td>...</td>\n",
              "      <td>...</td>\n",
              "      <td>...</td>\n",
              "      <td>...</td>\n",
              "      <td>...</td>\n",
              "      <td>...</td>\n",
              "      <td>...</td>\n",
              "      <td>...</td>\n",
              "      <td>...</td>\n",
              "      <td>...</td>\n",
              "      <td>...</td>\n",
              "    </tr>\n",
              "    <tr>\n",
              "      <th>10955</th>\n",
              "      <td>-117.88</td>\n",
              "      <td>33.76</td>\n",
              "      <td>17.0</td>\n",
              "      <td>1768.0</td>\n",
              "      <td>474.0</td>\n",
              "      <td>1079.0</td>\n",
              "      <td>436.0</td>\n",
              "      <td>1.7823</td>\n",
              "      <td>1</td>\n",
              "      <td>0</td>\n",
              "      <td>0</td>\n",
              "      <td>0</td>\n",
              "      <td>0</td>\n",
              "      <td>205300.0</td>\n",
              "    </tr>\n",
              "    <tr>\n",
              "      <th>17289</th>\n",
              "      <td>-119.63</td>\n",
              "      <td>34.42</td>\n",
              "      <td>42.0</td>\n",
              "      <td>1765.0</td>\n",
              "      <td>263.0</td>\n",
              "      <td>753.0</td>\n",
              "      <td>260.0</td>\n",
              "      <td>8.5608</td>\n",
              "      <td>1</td>\n",
              "      <td>0</td>\n",
              "      <td>0</td>\n",
              "      <td>0</td>\n",
              "      <td>0</td>\n",
              "      <td>500001.0</td>\n",
              "    </tr>\n",
              "    <tr>\n",
              "      <th>5192</th>\n",
              "      <td>-118.26</td>\n",
              "      <td>33.93</td>\n",
              "      <td>42.0</td>\n",
              "      <td>1433.0</td>\n",
              "      <td>295.0</td>\n",
              "      <td>775.0</td>\n",
              "      <td>293.0</td>\n",
              "      <td>1.1326</td>\n",
              "      <td>1</td>\n",
              "      <td>0</td>\n",
              "      <td>0</td>\n",
              "      <td>0</td>\n",
              "      <td>0</td>\n",
              "      <td>104800.0</td>\n",
              "    </tr>\n",
              "    <tr>\n",
              "      <th>12172</th>\n",
              "      <td>-117.16</td>\n",
              "      <td>33.73</td>\n",
              "      <td>10.0</td>\n",
              "      <td>2381.0</td>\n",
              "      <td>454.0</td>\n",
              "      <td>1323.0</td>\n",
              "      <td>477.0</td>\n",
              "      <td>2.6322</td>\n",
              "      <td>0</td>\n",
              "      <td>1</td>\n",
              "      <td>0</td>\n",
              "      <td>0</td>\n",
              "      <td>0</td>\n",
              "      <td>140700.0</td>\n",
              "    </tr>\n",
              "    <tr>\n",
              "      <th>235</th>\n",
              "      <td>-122.20</td>\n",
              "      <td>37.79</td>\n",
              "      <td>35.0</td>\n",
              "      <td>1802.0</td>\n",
              "      <td>459.0</td>\n",
              "      <td>1009.0</td>\n",
              "      <td>390.0</td>\n",
              "      <td>2.3036</td>\n",
              "      <td>0</td>\n",
              "      <td>0</td>\n",
              "      <td>0</td>\n",
              "      <td>1</td>\n",
              "      <td>0</td>\n",
              "      <td>126000.0</td>\n",
              "    </tr>\n",
              "  </tbody>\n",
              "</table>\n",
              "<p>20640 rows × 14 columns</p>\n",
              "</div>"
            ],
            "text/plain": [
              "       longitude  latitude  ...  NEAR OCEAN  median_house_value\n",
              "4712     -118.36     34.06  ...           0            355000.0\n",
              "2151     -119.78     36.78  ...           0             70700.0\n",
              "15927    -122.42     37.73  ...           0            229400.0\n",
              "82       -122.28     37.81  ...           0            112500.0\n",
              "8161     -118.13     33.82  ...           0            225400.0\n",
              "...          ...       ...  ...         ...                 ...\n",
              "10955    -117.88     33.76  ...           0            205300.0\n",
              "17289    -119.63     34.42  ...           0            500001.0\n",
              "5192     -118.26     33.93  ...           0            104800.0\n",
              "12172    -117.16     33.73  ...           0            140700.0\n",
              "235      -122.20     37.79  ...           0            126000.0\n",
              "\n",
              "[20640 rows x 14 columns]"
            ]
          },
          "metadata": {},
          "execution_count": 14
        }
      ]
    },
    {
      "cell_type": "code",
      "metadata": {
        "colab": {
          "base_uri": "https://localhost:8080/"
        },
        "id": "D16rxevT6xve",
        "outputId": "e8d0d951-fa1c-413c-9265-4694460d1648"
      },
      "source": [
        "housing_pd_final = housing_pd_final.dropna()\n",
        "len(housing_pd_final)"
      ],
      "execution_count": null,
      "outputs": [
        {
          "output_type": "execute_result",
          "data": {
            "text/plain": [
              "20433"
            ]
          },
          "metadata": {},
          "execution_count": 16
        }
      ]
    },
    {
      "cell_type": "code",
      "metadata": {
        "colab": {
          "base_uri": "https://localhost:8080/"
        },
        "id": "R97mZLVw87aA",
        "outputId": "6ebb8afa-5be2-4d6f-fed0-d50f6f8e6343"
      },
      "source": [
        "train_pd, test_pd, val_pd = housing_pd_final[:18000], housing_pd_final[18000:19217], housing_pd_final[19215:]\n",
        "len(train_pd), len(test_pd), len(val_pd)"
      ],
      "execution_count": null,
      "outputs": [
        {
          "output_type": "execute_result",
          "data": {
            "text/plain": [
              "(18000, 1217, 1218)"
            ]
          },
          "metadata": {},
          "execution_count": 21
        }
      ]
    },
    {
      "cell_type": "code",
      "metadata": {
        "colab": {
          "base_uri": "https://localhost:8080/"
        },
        "id": "LwfTPXHf9Xac",
        "outputId": "12620658-fac7-4802-e647-49a5368f730a"
      },
      "source": [
        "X_train, y_train = train_pd.to_numpy()[:, :-1], train_pd.to_numpy()[:, -1]\n",
        "X_val, y_val = val_pd.to_numpy()[:, :-1], val_pd.to_numpy()[:, -1]\n",
        "X_test, y_test = test_pd.to_numpy()[:, :-1], test_pd.to_numpy()[:, -1]\n",
        "\n",
        "X_train.shape, y_train.shape, X_val.shape, y_val.shape, X_test.shape, y_test.shape"
      ],
      "execution_count": null,
      "outputs": [
        {
          "output_type": "execute_result",
          "data": {
            "text/plain": [
              "((18000, 13), (18000,), (1218, 13), (1218,), (1217, 13), (1217,))"
            ]
          },
          "metadata": {},
          "execution_count": 42
        }
      ]
    },
    {
      "cell_type": "code",
      "metadata": {
        "id": "KTwC3xG3-ttV"
      },
      "source": [
        "from sklearn.preprocessing import StandardScaler\n",
        "import numpy as np\n",
        "\n",
        "scaler = StandardScaler().fit(X_train[:, :8])\n",
        "\n",
        "def preprocessor(X):\n",
        "  A = np.copy(X)\n",
        "  A[:, :8] = scaler.transform(A[:, :8])\n",
        "  return A\n",
        "\n",
        "X_train, X_val, X_test = preprocessor(X_train), preprocessor(X_val), preprocessor(X_test)"
      ],
      "execution_count": null,
      "outputs": []
    },
    {
      "cell_type": "code",
      "metadata": {
        "colab": {
          "base_uri": "https://localhost:8080/"
        },
        "id": "QGdkjnZIBwHe",
        "outputId": "7c82f39f-f525-4f74-a436-1907af265c64"
      },
      "source": [
        "X_train.shape, X_val.shape, X_test.shape"
      ],
      "execution_count": null,
      "outputs": [
        {
          "output_type": "execute_result",
          "data": {
            "text/plain": [
              "((18000, 13), (1218, 13), (1217, 13))"
            ]
          },
          "metadata": {},
          "execution_count": 44
        }
      ]
    },
    {
      "cell_type": "code",
      "metadata": {
        "colab": {
          "base_uri": "https://localhost:8080/",
          "height": 205
        },
        "id": "35qhlLJXA6Tj",
        "outputId": "49602171-492d-43fc-a32c-32ffac018bd7"
      },
      "source": [
        "pd.DataFrame(X_train_preprocessed).head()"
      ],
      "execution_count": null,
      "outputs": [
        {
          "output_type": "execute_result",
          "data": {
            "text/html": [
              "<div>\n",
              "<style scoped>\n",
              "    .dataframe tbody tr th:only-of-type {\n",
              "        vertical-align: middle;\n",
              "    }\n",
              "\n",
              "    .dataframe tbody tr th {\n",
              "        vertical-align: top;\n",
              "    }\n",
              "\n",
              "    .dataframe thead th {\n",
              "        text-align: right;\n",
              "    }\n",
              "</style>\n",
              "<table border=\"1\" class=\"dataframe\">\n",
              "  <thead>\n",
              "    <tr style=\"text-align: right;\">\n",
              "      <th></th>\n",
              "      <th>0</th>\n",
              "      <th>1</th>\n",
              "      <th>2</th>\n",
              "      <th>3</th>\n",
              "      <th>4</th>\n",
              "      <th>5</th>\n",
              "      <th>6</th>\n",
              "      <th>7</th>\n",
              "      <th>8</th>\n",
              "      <th>9</th>\n",
              "      <th>10</th>\n",
              "      <th>11</th>\n",
              "      <th>12</th>\n",
              "    </tr>\n",
              "  </thead>\n",
              "  <tbody>\n",
              "    <tr>\n",
              "      <th>0</th>\n",
              "      <td>0.603443</td>\n",
              "      <td>-0.736073</td>\n",
              "      <td>0.820845</td>\n",
              "      <td>0.081039</td>\n",
              "      <td>0.315396</td>\n",
              "      <td>-0.276840</td>\n",
              "      <td>0.328234</td>\n",
              "      <td>-0.326667</td>\n",
              "      <td>1.0</td>\n",
              "      <td>0.0</td>\n",
              "      <td>0.0</td>\n",
              "      <td>0.0</td>\n",
              "      <td>0.0</td>\n",
              "    </tr>\n",
              "    <tr>\n",
              "      <th>1</th>\n",
              "      <td>-0.105122</td>\n",
              "      <td>0.537108</td>\n",
              "      <td>0.661774</td>\n",
              "      <td>-0.206526</td>\n",
              "      <td>-0.196843</td>\n",
              "      <td>-0.246809</td>\n",
              "      <td>-0.160526</td>\n",
              "      <td>-0.995001</td>\n",
              "      <td>0.0</td>\n",
              "      <td>1.0</td>\n",
              "      <td>0.0</td>\n",
              "      <td>0.0</td>\n",
              "      <td>0.0</td>\n",
              "    </tr>\n",
              "    <tr>\n",
              "      <th>2</th>\n",
              "      <td>-1.422454</td>\n",
              "      <td>0.981785</td>\n",
              "      <td>1.377592</td>\n",
              "      <td>-0.374924</td>\n",
              "      <td>-0.301674</td>\n",
              "      <td>0.098553</td>\n",
              "      <td>-0.244613</td>\n",
              "      <td>0.074459</td>\n",
              "      <td>0.0</td>\n",
              "      <td>0.0</td>\n",
              "      <td>0.0</td>\n",
              "      <td>1.0</td>\n",
              "      <td>0.0</td>\n",
              "    </tr>\n",
              "    <tr>\n",
              "      <th>3</th>\n",
              "      <td>-1.352596</td>\n",
              "      <td>1.019231</td>\n",
              "      <td>1.854804</td>\n",
              "      <td>-1.055419</td>\n",
              "      <td>-1.049782</td>\n",
              "      <td>-1.079740</td>\n",
              "      <td>-1.082862</td>\n",
              "      <td>-1.235508</td>\n",
              "      <td>0.0</td>\n",
              "      <td>0.0</td>\n",
              "      <td>0.0</td>\n",
              "      <td>1.0</td>\n",
              "      <td>0.0</td>\n",
              "    </tr>\n",
              "    <tr>\n",
              "      <th>4</th>\n",
              "      <td>0.718211</td>\n",
              "      <td>-0.848412</td>\n",
              "      <td>0.661774</td>\n",
              "      <td>-0.507894</td>\n",
              "      <td>-0.589957</td>\n",
              "      <td>-0.628385</td>\n",
              "      <td>-0.567825</td>\n",
              "      <td>0.687448</td>\n",
              "      <td>1.0</td>\n",
              "      <td>0.0</td>\n",
              "      <td>0.0</td>\n",
              "      <td>0.0</td>\n",
              "      <td>0.0</td>\n",
              "    </tr>\n",
              "  </tbody>\n",
              "</table>\n",
              "</div>"
            ],
            "text/plain": [
              "         0         1         2         3         4   ...   8    9    10   11   12\n",
              "0  0.603443 -0.736073  0.820845  0.081039  0.315396  ...  1.0  0.0  0.0  0.0  0.0\n",
              "1 -0.105122  0.537108  0.661774 -0.206526 -0.196843  ...  0.0  1.0  0.0  0.0  0.0\n",
              "2 -1.422454  0.981785  1.377592 -0.374924 -0.301674  ...  0.0  0.0  0.0  1.0  0.0\n",
              "3 -1.352596  1.019231  1.854804 -1.055419 -1.049782  ...  0.0  0.0  0.0  1.0  0.0\n",
              "4  0.718211 -0.848412  0.661774 -0.507894 -0.589957  ...  1.0  0.0  0.0  0.0  0.0\n",
              "\n",
              "[5 rows x 13 columns]"
            ]
          },
          "metadata": {},
          "execution_count": 41
        }
      ]
    },
    {
      "cell_type": "code",
      "metadata": {
        "colab": {
          "base_uri": "https://localhost:8080/",
          "height": 282
        },
        "id": "pYj6apKkBKtQ",
        "outputId": "9d193d75-19c1-455c-89b4-4583a9b00f8b"
      },
      "source": [
        "pd.DataFrame(X_train_preprocessed)[0].hist()"
      ],
      "execution_count": null,
      "outputs": [
        {
          "output_type": "execute_result",
          "data": {
            "text/plain": [
              "<matplotlib.axes._subplots.AxesSubplot at 0x7ff854e1ff10>"
            ]
          },
          "metadata": {},
          "execution_count": 39
        },
        {
          "output_type": "display_data",
          "data": {
            "image/png": "[encoded data removed]",
            "text/plain": [
              "<Figure size 432x288 with 1 Axes>"
            ]
          },
          "metadata": {
            "needs_background": "light"
          }
        }
      ]
    },
    {
      "cell_type": "code",
      "metadata": {
        "colab": {
          "base_uri": "https://localhost:8080/"
        },
        "id": "8qGMVzkiChUO",
        "outputId": "855dd2f9-826a-49e7-de95-77a82d3e150d"
      },
      "source": [
        "from sklearn.metrics import mean_squared_error as mse\n",
        "from sklearn.linear_model import LinearRegression\n",
        "\n",
        "lm = LinearRegression().fit(X_train, y_train)\n",
        "mse(lm.predict(X_train), y_train, squared=False), mse(lm.predict(X_val), y_val, squared=False)"
      ],
      "execution_count": null,
      "outputs": [
        {
          "output_type": "execute_result",
          "data": {
            "text/plain": [
              "(68593.05578127236, 71382.43558330165)"
            ]
          },
          "metadata": {},
          "execution_count": 47
        }
      ]
    },
    {
      "cell_type": "code",
      "metadata": {
        "colab": {
          "base_uri": "https://localhost:8080/"
        },
        "id": "ZiCqR084C9ZB",
        "outputId": "254cf32c-efd1-460f-a4c2-e5f1fea7e02c"
      },
      "source": [
        "from sklearn.neighbors import KNeighborsRegressor\n",
        "\n",
        "knn = KNeighborsRegressor(n_neighbors=10).fit(X_train, y_train)\n",
        "mse(knn.predict(X_train), y_train, squared=False), mse(knn.predict(X_val), y_val, squared=False)"
      ],
      "execution_count": null,
      "outputs": [
        {
          "output_type": "execute_result",
          "data": {
            "text/plain": [
              "(53759.09908812057, 62161.22860469906)"
            ]
          },
          "metadata": {},
          "execution_count": 53
        }
      ]
    },
    {
      "cell_type": "code",
      "metadata": {
        "colab": {
          "base_uri": "https://localhost:8080/"
        },
        "id": "YX3GllmBDxhh",
        "outputId": "13b092c6-861e-44bd-c2c3-935a57ba4cd1"
      },
      "source": [
        "from sklearn.ensemble import RandomForestRegressor\n",
        "\n",
        "rfr = RandomForestRegressor(max_depth=10).fit(X_train, y_train)\n",
        "mse(rfr.predict(X_train), y_train, squared=False), mse(rfr.predict(X_val), y_val, squared=False)"
      ],
      "execution_count": null,
      "outputs": [
        {
          "output_type": "execute_result",
          "data": {
            "text/plain": [
              "(43506.058875678085, 53321.61244962701)"
            ]
          },
          "metadata": {},
          "execution_count": 58
        }
      ]
    },
    {
      "cell_type": "code",
      "metadata": {
        "colab": {
          "base_uri": "https://localhost:8080/"
        },
        "id": "VLuWncFHEV_q",
        "outputId": "c0a35a35-9e32-40b9-a1d4-be1c0d65394e"
      },
      "source": [
        "from sklearn.ensemble import GradientBoostingRegressor\n",
        "\n",
        "gbr = GradientBoostingRegressor(n_estimators=250).fit(X_train, y_train)\n",
        "mse(gbr.predict(X_train), y_train, squared=False), mse(gbr.predict(X_val), y_val, squared=False)"
      ],
      "execution_count": null,
      "outputs": [
        {
          "output_type": "execute_result",
          "data": {
            "text/plain": [
              "(47274.82259072157, 51376.13117797945)"
            ]
          },
          "metadata": {},
          "execution_count": 65
        }
      ]
    },
    {
      "cell_type": "code",
      "metadata": {
        "id": "H7isnnEiE10q"
      },
      "source": [
        "from tensorflow.keras.models import Sequential\n",
        "from tensorflow.keras.layers import *\n",
        "from tensorflow.keras.callbacks import ModelCheckpoint\n",
        "from tensorflow.keras.metrics import RootMeanSquaredError\n",
        "from tensorflow.keras.optimizers import Adam\n",
        "\n",
        "simple_nn = Sequential()\n",
        "simple_nn.add(InputLayer((13,)))\n",
        "simple_nn.add(Dense(2, 'relu'))\n",
        "simple_nn.add(Dense(1, 'linear'))\n",
        "\n",
        "opt = Adam(learning_rate=.1)\n",
        "cp = ModelCheckpoint('models/simple_nn', save_best_only=True)\n",
        "simple_nn.compile(optimizer=opt, loss='mse', metrics=[RootMeanSquaredError()])\n",
        "simple_nn.fit(x=X_train, y=y_train, validation_data=(X_val, y_val), callbacks=[cp], epochs=100)"
      ],
      "execution_count": null,
      "outputs": []
    },
    {
      "cell_type": "code",
      "metadata": {
        "colab": {
          "base_uri": "https://localhost:8080/"
        },
        "id": "_SflsiTCGxVp",
        "outputId": "139c3d5d-829e-424b-a88a-b14f2c125328"
      },
      "source": [
        "from tensorflow.keras.models import load_model\n",
        "\n",
        "simple_nn = load_model('models/simple_nn')\n",
        "mse(simple_nn.predict(X_train), y_train, squared=False), mse(simple_nn.predict(X_val), y_val, squared=False)"
      ],
      "execution_count": null,
      "outputs": [
        {
          "output_type": "execute_result",
          "data": {
            "text/plain": [
              "(65215.85680514889, 67767.7671508129)"
            ]
          },
          "metadata": {},
          "execution_count": 70
        }
      ]
    },
    {
      "cell_type": "code",
      "metadata": {
        "id": "0QLS6aybID9Q"
      },
      "source": [
        "medium_nn = Sequential()\n",
        "medium_nn.add(InputLayer((13,)))\n",
        "medium_nn.add(Dense(32, 'relu'))\n",
        "medium_nn.add(Dense(16, 'relu'))\n",
        "medium_nn.add(Dense(1, 'linear'))\n",
        "\n",
        "opt = Adam(learning_rate=.1)\n",
        "cp = ModelCheckpoint('models/medium_nn', save_best_only=True)\n",
        "medium_nn.compile(optimizer=opt, loss='mse', metrics=[RootMeanSquaredError()])\n",
        "medium_nn.fit(x=X_train, y=y_train, validation_data=(X_val, y_val), callbacks=[cp], epochs=100)"
      ],
      "execution_count": null,
      "outputs": []
    },
    {
      "cell_type": "code",
      "metadata": {
        "colab": {
          "base_uri": "https://localhost:8080/"
        },
        "id": "RPwwpMMZIIrA",
        "outputId": "97378ea3-e00c-459e-9bbd-ae26f70c7cfe"
      },
      "source": [
        "medium_nn = load_model('models/medium_nn')\n",
        "mse(medium_nn.predict(X_train), y_train, squared=False), mse(medium_nn.predict(X_val), y_val, squared=False)"
      ],
      "execution_count": null,
      "outputs": [
        {
          "output_type": "execute_result",
          "data": {
            "text/plain": [
              "(51672.23206936678, 56032.4984374479)"
            ]
          },
          "metadata": {},
          "execution_count": 72
        }
      ]
    },
    {
      "cell_type": "code",
      "metadata": {
        "id": "vWoPfZ0HI9U_"
      },
      "source": [
        "large_nn = Sequential()\n",
        "large_nn.add(InputLayer((13,)))\n",
        "large_nn.add(Dense(256, 'relu'))\n",
        "large_nn.add(Dense(128, 'relu'))\n",
        "large_nn.add(Dense(64, 'relu'))\n",
        "large_nn.add(Dense(32, 'relu'))\n",
        "large_nn.add(Dense(1, 'linear'))\n",
        "\n",
        "opt = Adam(learning_rate=.1)\n",
        "cp = ModelCheckpoint('models/large_nn', save_best_only=True)\n",
        "large_nn.compile(optimizer=opt, loss='mse', metrics=[RootMeanSquaredError()])\n",
        "large_nn.fit(x=X_train, y=y_train, validation_data=(X_val, y_val), callbacks=[cp], epochs=100)"
      ],
      "execution_count": null,
      "outputs": []
    },
    {
      "cell_type": "code",
      "metadata": {
        "colab": {
          "base_uri": "https://localhost:8080/"
        },
        "id": "v5sa_qQVJByu",
        "outputId": "61c2aff1-ee4e-45fe-ee35-48d63a00d6c5"
      },
      "source": [
        "large_nn = load_model('models/large_nn')\n",
        "mse(large_nn.predict(X_train), y_train, squared=False), mse(large_nn.predict(X_val), y_val, squared=False)"
      ],
      "execution_count": null,
      "outputs": [
        {
          "output_type": "execute_result",
          "data": {
            "text/plain": [
              "(46453.999894207904, 53604.151459795976)"
            ]
          },
          "metadata": {},
          "execution_count": 74
        }
      ]
    },
    {
      "cell_type": "code",
      "metadata": {
        "colab": {
          "base_uri": "https://localhost:8080/"
        },
        "id": "k9qTUZ1YKA64",
        "outputId": "6d3891d4-edbe-40d6-dcb0-2bca9f38e73e"
      },
      "source": [
        "mse(gbr.predict(X_test), y_test, squared=False)"
      ],
      "execution_count": null,
      "outputs": [
        {
          "output_type": "execute_result",
          "data": {
            "text/plain": [
              "49343.558115024265"
            ]
          },
          "metadata": {},
          "execution_count": 75
        }
      ]
    },
    {
      "cell_type": "code",
      "metadata": {
        "id": "xJLzIm4NKGsU"
      },
      "source": [],
      "execution_count": null,
      "outputs": []
    }
  ]
}